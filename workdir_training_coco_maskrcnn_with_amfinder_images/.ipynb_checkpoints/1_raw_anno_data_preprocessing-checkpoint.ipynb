{
 "cells": [
  {
   "cell_type": "code",
   "execution_count": null,
   "id": "c2c5fc05",
   "metadata": {},
   "outputs": [],
   "source": [
    "# read in all csv files and concate as one\n",
    "# count the number of examples per class\n",
    "# quality check\n",
    "# export csv"
   ]
  },
  {
   "cell_type": "code",
   "execution_count": 1,
   "id": "f47b5fb4",
   "metadata": {},
   "outputs": [],
   "source": [
    "import os\n",
    "import sys\n",
    "import json\n",
    "import uuid as uuid\n",
    "import cv2\n",
    "import re\n",
    "import shutil\n",
    "from operator import itemgetter\n",
    "import math\n",
    "import random\n",
    "import seaborn as sns\n",
    "import pandas as pd\n",
    "import numpy as np\n",
    "import matplotlib.pyplot as plt\n",
    "\n",
    "import shapely\n",
    "import shapely.geometry\n",
    "from shapely.geometry import Polygon,MultiPolygon,GeometryCollection\n",
    "from shapely.validation import make_valid\n",
    "from shapely.geometry import mapping\n",
    "import geopandas as gpd\n",
    "\n",
    "import imgfileutils as imf\n",
    "#import segmentation_tools as sgt\n",
    "from aicsimageio import AICSImage, imread\n",
    "from skimage import measure, segmentation\n",
    "from skimage.measure import regionprops\n",
    "from skimage.color import label2rgb\n",
    "import progressbar\n",
    "from IPython.display import display, HTML\n",
    "from MightyMosaic import MightyMosaic\n",
    "\n",
    "import argparse\n",
    "import glob\n",
    "import bioformats\n",
    "import javabridge\n",
    "from PIL import Image\n",
    "\n",
    "import csv"
   ]
  },
  {
   "cell_type": "code",
   "execution_count": 6,
   "id": "5edc0c44",
   "metadata": {},
   "outputs": [],
   "source": [
    "# setup directory\n",
    "root = r'/Users/lovely_shufan/'\n",
    "project_dir = root + r'Dropbox (Edison_Lab@UGA)/AMF/AMF Imaging/2_training_Mask_RCNN/Shufan/COCO_transfer_learning_AMFinder_images/'\n",
    "rawdata_dir = project_dir + r'0_raw_data/'\n",
    "tile_dir = project_dir + r'1_tiled_data/'\n",
    "\n",
    "os.makedirs(tile_dir,exist_ok=True)\n"
   ]
  },
  {
   "cell_type": "code",
   "execution_count": 7,
   "id": "e8f5a5ea",
   "metadata": {},
   "outputs": [
    {
     "name": "stdout",
     "output_type": "stream",
     "text": [
      "(1461, 7)\n",
      "                         filename  file_size file_attributes  region_count  \\\n",
      "0  CNN2_Keyence_Nbenth_myc_10.jpg   24956623              {}          1461   \n",
      "\n",
      "   region_id                            region_shape_attributes  \\\n",
      "0          0  {\"name\":\"polygon\",\"all_points_x\":[941,925,929,...   \n",
      "\n",
      "            region_attributes  \n",
      "0  {\"object\":\"AMF arbuscule\"}  \n",
      "<class 'str'>\n",
      "{'object': 'AMF arbuscule'}\n"
     ]
    }
   ],
   "source": [
    "# visualize csv structure\n",
    "anno_temp = pd.read_csv(os.path.join(rawdata_dir,'via_project_07March2022_01h52m_WL_JHC_10_csv.csv'), delimiter=\",\")\n",
    "print(anno_temp.shape)\n",
    "print(anno_temp.iloc[:1]) # print first row of csv\n",
    "print(type(anno_temp['region_attributes'][0]))\n",
    "classdict = json.loads(anno_temp['region_attributes'][0])\n",
    "print(classdict)"
   ]
  },
  {
   "cell_type": "code",
   "execution_count": 8,
   "id": "0da80b78",
   "metadata": {
    "scrolled": true
   },
   "outputs": [
    {
     "name": "stdout",
     "output_type": "stream",
     "text": [
      "(14208, 7)\n"
     ]
    }
   ],
   "source": [
    "# read in all csv annotation file and combine into one \n",
    "anno_all = []\n",
    "for file in os.listdir(rawdata_dir):\n",
    "    if file.endswith(\".csv\"):\n",
    "        #print(file)\n",
    "        anno_temp = pd.read_csv(os.path.join(rawdata_dir,file), delimiter=\",\")\n",
    "        #print(anno_temp.shape)\n",
    "        anno_all.append(anno_temp)\n",
    "        \n",
    "combined_csv = pd.concat(anno_all, ignore_index=True)\n",
    "print(combined_csv.shape)"
   ]
  },
  {
   "cell_type": "code",
   "execution_count": 9,
   "id": "93aa6b5d",
   "metadata": {},
   "outputs": [
    {
     "data": {
      "text/plain": [
       "region_attributes\n",
       "{\"object\":\"AMF arbuscule\"}         5504\n",
       "{\"object\":\"AMF external hypha\"}     840\n",
       "{\"object\":\"AMF internal hypha\"}    1507\n",
       "{\"object\":\"AMF spore\"}               24\n",
       "{\"object\":\"AMF vesicle\"}           6090\n",
       "{\"object\":\"Root\"}                   195\n",
       "{\"object\":undefined}                 21\n",
       "{}                                   27\n",
       "Name: region_attributes, dtype: int64"
      ]
     },
     "execution_count": 9,
     "metadata": {},
     "output_type": "execute_result"
    }
   ],
   "source": [
    "# count annotation frequency by class\n",
    "combined_csv.groupby(['region_attributes'])['region_attributes'].count()"
   ]
  },
  {
   "cell_type": "code",
   "execution_count": 10,
   "id": "b7779f44",
   "metadata": {},
   "outputs": [
    {
     "name": "stdout",
     "output_type": "stream",
     "text": [
      "(14136, 7)\n",
      "region_attributes\n",
      "{\"object\":\"AMF arbuscule\"}         5504\n",
      "{\"object\":\"AMF external hypha\"}     840\n",
      "{\"object\":\"AMF internal hypha\"}    1507\n",
      "{\"object\":\"AMF vesicle\"}           6090\n",
      "{\"object\":\"Root\"}                   195\n",
      "Name: region_attributes, dtype: int64\n"
     ]
    }
   ],
   "source": [
    "# remove 'undefined', 'spore', 'empty' classes\n",
    "rm_list = ['{}', '{\"object\":undefined}', '{\"object\":\"AMF spore\"}']\n",
    "combined_csv = combined_csv[~combined_csv['region_attributes'].isin(rm_list)]\n",
    "print(combined_csv.shape)\n",
    "print(combined_csv.groupby(['region_attributes'])['region_attributes'].count())"
   ]
  },
  {
   "cell_type": "code",
   "execution_count": 11,
   "id": "53fa6776",
   "metadata": {},
   "outputs": [
    {
     "name": "stdout",
     "output_type": "stream",
     "text": [
      "['polygon'] [14136]\n"
     ]
    }
   ],
   "source": [
    "# check all annotations shape attributes\n",
    "anno_shape = []\n",
    "for i in range(0,combined_csv.shape[0],1):\n",
    "    line = combined_csv.iloc[i]\n",
    "    idict = json.loads(line['region_shape_attributes']) \n",
    "    shape = idict[\"name\"]\n",
    "    anno_shape.append(shape)\n",
    "values, counts = np.unique(anno_shape, return_counts=True)\n",
    "print(values, counts)"
   ]
  },
  {
   "cell_type": "code",
   "execution_count": 13,
   "id": "1af42388",
   "metadata": {},
   "outputs": [
    {
     "name": "stdout",
     "output_type": "stream",
     "text": [
      "filename\n",
      "CNN2_Keyence_Nbenth_myc_10.jpg    1439\n",
      "CNN2_Keyence_Nbenth_myc_14.jpg     706\n",
      "CNN2_Keyence_Nbenth_myc_15.jpg     945\n",
      "CNN2_Keyence_Nbenth_myc_16.jpg     735\n",
      "CNN2_Keyence_Nbenth_myc_17.jpg     674\n",
      "CNN2_Keyence_Nbenth_myc_18.jpg    1025\n",
      "CNN2_Keyence_Nbenth_myc_19.jpg    1012\n",
      "CNN2_Keyence_Nbenth_myc_20.jpg     884\n",
      "CNN2_Keyence_Nbenth_myc_21.jpg    1102\n",
      "CNN2_Keyence_Nbenth_myc_22.jpg     691\n",
      "CNN2_Keyence_Nbenth_myc_29.jpg     771\n",
      "CNN2_Keyence_Nbenth_myc_31.jpg    1479\n",
      "CNN2_Keyence_Nbenth_myc_33.jpg     625\n",
      "CNN2_Keyence_Nbenth_myc_8.jpg      921\n",
      "CNN2_Keyence_Nbenth_myc_9.jpg     1127\n",
      "Name: filename, dtype: int64\n"
     ]
    }
   ],
   "source": [
    "# print image name \n",
    "combined_csv['filename'].unique()\n",
    "print(combined_csv.groupby(['filename'])['filename'].count())"
   ]
  },
  {
   "cell_type": "code",
   "execution_count": 80,
   "id": "a03ad98c",
   "metadata": {},
   "outputs": [],
   "source": [
    "# write combined csv to input folder \n",
    "combined_csv.to_csv(rawdata_dir+'amfinder_annotations_combined_qc.csv', sep='\\t', index=False)"
   ]
  }
 ],
 "metadata": {
  "kernelspec": {
   "display_name": "Python [conda env:czi_shapely_py38]",
   "language": "python",
   "name": "conda-env-czi_shapely_py38-py"
  },
  "language_info": {
   "codemirror_mode": {
    "name": "ipython",
    "version": 3
   },
   "file_extension": ".py",
   "mimetype": "text/x-python",
   "name": "python",
   "nbconvert_exporter": "python",
   "pygments_lexer": "ipython3",
   "version": "3.8.17"
  }
 },
 "nbformat": 4,
 "nbformat_minor": 5
}
