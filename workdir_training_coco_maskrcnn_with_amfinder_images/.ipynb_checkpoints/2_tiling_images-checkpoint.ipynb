{
 "cells": [
  {
   "cell_type": "code",
   "execution_count": null,
   "id": "7a91f453",
   "metadata": {},
   "outputs": [],
   "source": [
    "# tiling AMFinder images to 1024 x 1024 and crop segmentation accordingly\n",
    "# "
   ]
  },
  {
   "cell_type": "code",
   "execution_count": null,
   "id": "4216e3e3",
   "metadata": {},
   "outputs": [],
   "source": [
    "import os\n",
    "import sys\n",
    "import json\n",
    "import uuid as uuid\n",
    "import cv2\n",
    "import re\n",
    "import shutil\n",
    "from operator import itemgetter\n",
    "import math\n",
    "import random\n",
    "import seaborn as sns\n",
    "import pandas as pd\n",
    "import numpy as np\n",
    "import matplotlib.pyplot as plt\n",
    "\n",
    "import shapely\n",
    "import shapely.geometry\n",
    "from shapely.geometry import Polygon,MultiPolygon,GeometryCollection\n",
    "from shapely.validation import make_valid\n",
    "from shapely.geometry import mapping\n",
    "import geopandas as gpd\n",
    "\n",
    "import imgfileutils as imf\n",
    "#import segmentation_tools as sgt\n",
    "from aicsimageio import AICSImage, imread\n",
    "from skimage import measure, segmentation\n",
    "from skimage.measure import regionprops\n",
    "from skimage.color import label2rgb\n",
    "import progressbar\n",
    "from IPython.display import display, HTML\n",
    "from MightyMosaic import MightyMosaic\n",
    "\n",
    "import argparse\n",
    "import glob\n",
    "import bioformats\n",
    "import javabridge\n",
    "from PIL import Image\n",
    "\n",
    "import csv"
   ]
  }
 ],
 "metadata": {
  "kernelspec": {
   "display_name": "Python [conda env:czi_shapely_py38]",
   "language": "python",
   "name": "conda-env-czi_shapely_py38-py"
  },
  "language_info": {
   "codemirror_mode": {
    "name": "ipython",
    "version": 3
   },
   "file_extension": ".py",
   "mimetype": "text/x-python",
   "name": "python",
   "nbconvert_exporter": "python",
   "pygments_lexer": "ipython3",
   "version": "3.8.17"
  }
 },
 "nbformat": 4,
 "nbformat_minor": 5
}
