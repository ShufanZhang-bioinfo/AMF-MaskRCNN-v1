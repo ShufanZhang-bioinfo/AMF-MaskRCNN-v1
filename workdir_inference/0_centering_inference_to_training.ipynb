{
 "cells": [
  {
   "cell_type": "code",
   "execution_count": null,
   "id": "ee108cf6",
   "metadata": {},
   "outputs": [],
   "source": [
    "# find the mean pixel value of training images"
   ]
  }
 ],
 "metadata": {
  "kernelspec": {
   "display_name": "Python [conda env:czi_shapely_py38]",
   "language": "python",
   "name": "conda-env-czi_shapely_py38-py"
  },
  "language_info": {
   "codemirror_mode": {
    "name": "ipython",
    "version": 3
   },
   "file_extension": ".py",
   "mimetype": "text/x-python",
   "name": "python",
   "nbconvert_exporter": "python",
   "pygments_lexer": "ipython3",
   "version": "3.8.17"
  }
 },
 "nbformat": 4,
 "nbformat_minor": 5
}
