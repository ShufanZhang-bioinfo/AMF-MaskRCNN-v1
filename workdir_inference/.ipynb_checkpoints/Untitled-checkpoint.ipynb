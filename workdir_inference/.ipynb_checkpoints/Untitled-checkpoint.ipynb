{
 "cells": [
  {
   "cell_type": "code",
   "execution_count": 1,
   "id": "6dcaa3fd",
   "metadata": {},
   "outputs": [],
   "source": [
    "import argparse\n",
    "import os\n",
    "import random\n",
    "import shutil\n",
    "import time\n",
    "import warnings\n",
    "import pickle\n",
    "import numpy as np\n",
    "import math\n",
    "import sys\n",
    "import copy\n",
    "import re\n",
    "import pandas as pd\n",
    "import matplotlib.pyplot as plt\n",
    "import json\n",
    "import cv2\n",
    "from itertools import compress\n",
    "\n",
    "import torch\n",
    "import torch.nn as nn\n",
    "import detectron2\n",
    "from detectron2.utils.logger import setup_logger\n",
    "setup_logger()\n",
    "from detectron2 import model_zoo\n",
    "from detectron2.engine import DefaultPredictor,DefaultTrainer,HookBase\n",
    "from detectron2.config import get_cfg\n",
    "from detectron2.utils.visualizer import Visualizer,ColorMode,GenericMask\n",
    "from detectron2.structures import BoxMode\n",
    "from detectron2.evaluation import COCOEvaluator,inference_on_dataset\n",
    "from detectron2.data import build_detection_test_loader,DatasetMapper,build_detection_train_loader,MetadataCatalog,DatasetCatalog\n",
    "import detectron2.data.transforms as T\n",
    "import detectron2.utils.comm as comm\n",
    "\n",
    "import ray\n",
    "import time\n",
    "\n",
    "import uuid as uuid\n",
    "from operator import itemgetter\n",
    "import seaborn as sns\n",
    "\n",
    "import shapely\n",
    "import shapely.geometry\n",
    "from shapely.geometry import Polygon,MultiPolygon,GeometryCollection\n",
    "from shapely.validation import make_valid\n",
    "from shapely.geometry import mapping\n",
    "#import geopandas as gpd\n",
    "\n",
    "#import imgfileutils as imf\n",
    "#import segmentation_tools as sgt\n",
    "from aicsimageio import AICSImage, imread\n",
    "from skimage import measure, segmentation\n",
    "from skimage.measure import regionprops\n",
    "from skimage.color import label2rgb\n",
    "#import progressbar\n",
    "from IPython.display import display, HTML\n",
    "#from MightyMosaic import MightyMosaic\n",
    "\n",
    "import glob\n",
    "from PIL import Image\n",
    "import csv"
   ]
  },
  {
   "cell_type": "code",
   "execution_count": 2,
   "id": "3d10dfc2",
   "metadata": {},
   "outputs": [],
   "source": [
    "# setup directory\n",
    "root = r'/Users/lovely_shufan/'\n",
    "\n",
    "project_dir = root + r'Dropbox (Edison_Lab@UGA)/AMF/AMF Imaging 2022/0_inference_using_MaskRCNN_2021/'\n",
    "output_dir = project_dir + r'2_infer_result/GA_GWAS_2022/'\n",
    "\n",
    "model_dir = root + r'Dropbox (Edison_Lab@UGA)/AMF/AMF Imaging 2021/2_computer_vision/'\n",
    "\n",
    "data_dir = r'/Volumes/easystore/GWAS 2022/'\n",
    "\n",
    "blocks = ['Block2/','Block3/','Block8/']"
   ]
  },
  {
   "cell_type": "markdown",
   "id": "12de28e2",
   "metadata": {},
   "source": [
    "## Model Inference Configuration"
   ]
  },
  {
   "cell_type": "code",
   "execution_count": 3,
   "id": "9c5a3649",
   "metadata": {},
   "outputs": [],
   "source": [
    "classes=['root','AMF internal hypha','AMF external hypha','AMF arbuscule','AMF vesicle','AMF spore','others']"
   ]
  },
  {
   "cell_type": "code",
   "execution_count": 4,
   "id": "3d4f8915",
   "metadata": {},
   "outputs": [],
   "source": [
    "cfg = get_cfg() # return default configuration\n",
    "cfg.merge_from_file(model_zoo.get_config_file(\"COCO-InstanceSegmentation/mask_rcnn_R_50_FPN_3x.yaml\")) # copy config files from open source projects\n",
    "\n",
    "# training configuration\n",
    "cfg.DATASETS.TEST=()\n",
    "cfg.DATALOADER.NUM_WORKERS=2\n",
    "#cfg.SOLVER.IMS_PER_BATCH=args.batch_size\n",
    "\n",
    "cfg.MODEL.ROI_HEADS.BATCH_SIZE_PER_IMAGE=128 #Number of regions per image used to train RPN. faster, and good enough for this toy dataset (default: 512)\n",
    "cfg.MODEL.ROI_HEADS.NUM_CLASSES=len(classes)# (see https://detectron2.readthedocs.io/tutorials/datasets.html#update-the-config-for-new-datasets)\n",
    "cfg.MODEL.BACKBONE.FREEZE_AT=2\n",
    "cfg.SEED=1\n",
    "cfg.AUG_FLAG=1\n",
    "\n",
    "# inference configuration\n",
    "cfg.MODEL.ROI_HEADS.SCORE_THRESH_TEST = 0.8  # set threshold for this model\n",
    "cfg.MODEL.WEIGHTS=os.path.join(model_dir, \"Trainset1_model_best.pth\") # path to the best model trained\n",
    "cfg.MODEL.DEVICE='cpu' # use cpu for inference\n",
    "\n",
    "# I removed spore and others from inference classes\n",
    "inf_metadata = MetadataCatalog.get(\"inference\").set(thing_classes=['root','AMF internal hypha','AMF external hypha','AMF arbuscule','AMF vesicle'])"
   ]
  },
  {
   "cell_type": "code",
   "execution_count": 5,
   "id": "a1d16c3a",
   "metadata": {
    "scrolled": true
   },
   "outputs": [
    {
     "name": "stdout",
     "output_type": "stream",
     "text": [
      "\u001b[32m[10/02 22:14:18 d2.checkpoint.detection_checkpoint]: \u001b[0m[DetectionCheckpointer] Loading from /Users/lovely_shufan/Dropbox (Edison_Lab@UGA)/AMF/AMF Imaging 2021/2_computer_vision/Trainset1_model_best.pth ...\n"
     ]
    },
    {
     "name": "stderr",
     "output_type": "stream",
     "text": [
      "The checkpoint state_dict contains keys that are not used by the model:\n",
      "  \u001b[35mpixel_mean\u001b[0m\n",
      "  \u001b[35mpixel_std\u001b[0m\n"
     ]
    }
   ],
   "source": [
    "predictor = DefaultPredictor(cfg)"
   ]
  },
  {
   "cell_type": "markdown",
   "id": "daedb322",
   "metadata": {},
   "source": [
    "## Ray remote funtion"
   ]
  },
  {
   "cell_type": "code",
   "execution_count": 6,
   "id": "f130aa36",
   "metadata": {},
   "outputs": [],
   "source": [
    "def centering2train(diff, img, x, y):\n",
    "    '''\n",
    "    :param diff: 3d tensor (row, col, 3)\n",
    "    :param img: np.ndarray (row, col ,3)\n",
    "    :return img:\n",
    "    :rtype ndnumpy.array:\n",
    "    Objective: output an image centered using training set per-channel means\n",
    "    '''\n",
    "    \n",
    "    # Convert diff to a numpy array and reshape it to (3, 1, 1)\n",
    "    diff_array = np.array(diff).reshape(3, 1, 1)\n",
    "    # Broadcast to shape (3, imageHeight, imgWidth)\n",
    "    expanded_array = np.broadcast_to(diff_array, (3, y, x))\n",
    "    # Transpose to get shape (imageHeight, imgWidth, 3)\n",
    "    diff_ts = expanded_array.transpose(1, 2, 0)\n",
    "    \n",
    "    img = np.add(img,diff_ts)\n",
    "    # Clip values outside the interval are clipped to the interval edges\n",
    "    np.clip(img, 0, 255, out=img)\n",
    "    return img\n",
    "\n",
    "def padImg(img, x, y, tilex, tiley):\n",
    "    '''\n",
    "    :param img:\n",
    "    :return padded img:\n",
    "    :rtype ndnumpy.array:\n",
    "    Objective: output a padded image dividle by tile size\n",
    "    '''\n",
    "    pad_top = tiley - (y % tiley)\n",
    "    pad_lft = tilex - (x % tilex)\n",
    "    img = cv2.copyMakeBorder(img,pad_top,0,pad_lft,0,cv2.BORDER_CONSTANT,value=[0,0,0])\n",
    "    return img"
   ]
  },
  {
   "cell_type": "code",
   "execution_count": 7,
   "id": "05d113ea",
   "metadata": {},
   "outputs": [],
   "source": [
    "@ray.remote\n",
    "def inference(pathtofile, block, diff, predictor):\n",
    "    blklist = []\n",
    "    imgidlist = []\n",
    "    sceneidlist = []\n",
    "    tileidlist = []\n",
    "    classlist = []\n",
    "    confscorelist=[]\n",
    "    arealist = []\n",
    "\n",
    "    # read in czi\n",
    "    czi = AICSImage(pathtofile)\n",
    "   \n",
    "    for scene in czi.scenes:\n",
    "        # extract image by scene\n",
    "        czi.set_scene(scene)\n",
    "        img = czi.get_image_data(\"YXS\", T=0,C=0,Z=0) # numpy.ndarray  \n",
    "        y = img.shape[0]\n",
    "        x = img.shape[1]\n",
    "        # centering\n",
    "        img = centering2train(diff, img, x, y)\n",
    "        # pad image\n",
    "        img = padImg(img, x, y, 2560, 1920)\n",
    "        # tiling\n",
    "        for i in range(0,y,1920):\n",
    "            for j in range(0,x,2560):\n",
    "                xmin = j\n",
    "                xmax = j + 2560\n",
    "                ymin = i\n",
    "                ymax = i + 1920\n",
    "                tile_id = str(xmin)+\"_\"+str(ymin)+\"_\"+str(xmax)+\"_\"+str(ymax)\n",
    "                subimg = img[ymin:ymax,xmin:xmax]\n",
    "                outputs = predictor(subimg)\n",
    "                        \n",
    "                #inference outputs\n",
    "                clasind = outputs['instances'].get('pred_classes')\n",
    "                allmasks = outputs['instances'].get('pred_masks')\n",
    "                allscores = outputs['instances'].get('scores')\n",
    "            \n",
    "                num_seg = clasind.size()[0]\n",
    "                if num_seg != 0: # only save an entry when the image contains a segmentation\n",
    "                    blklist = blklist + np.repeat(block[:-1], num_seg).tolist()\n",
    "                    imgidlist = imgidlist + np.repeat(pathtofile, num_seg).tolist()\n",
    "                    sceneidlist = sceneidlist + np.repeat(scene, num_seg).tolist()\n",
    "                    tileidlist = tileidlist + np.repeat(tile_id, num_seg).tolist()\n",
    "                    confscorelist = confscorelist + allscores.tolist()\n",
    "                \n",
    "                    # calculate the area of segmentation\n",
    "                    v = Visualizer(subimg[:, :, ::-1], MetadataCatalog.get(\"inference\"), scale=1.0)\n",
    "                    for i in range(0,num_seg,1):\n",
    "                        #calculate mask area\n",
    "                        locmask = np.asarray(allmasks[i,:,:])\n",
    "                        gmask = GenericMask(locmask,v.output.height,v.output.width)\n",
    "                        if gmask.polygons:\n",
    "                            mergpolygon = gmask.polygons[0]\n",
    "                            all_points_x = mergpolygon[::2]\n",
    "                            all_points_y = mergpolygon[1::2]\n",
    "                            pgon = Polygon(zip(all_points_x,all_points_y))\n",
    "                            arealist.append(pgon.area)\n",
    "                            # class index to class name\n",
    "                            classlist.append(classes[clasind.tolist()[i]])\n",
    "                        else: # assign NAs to non-polygon mask\n",
    "                            arealist.append(math.nan)\n",
    "                            classlist.append(math.nan)\n",
    "\n",
    "    # export inference result as df\n",
    "    infresults = pd.DataFrame({\n",
    "    'block': blklist,\n",
    "    'filename': imgidlist,\n",
    "    'scene': sceneidlist,\n",
    "    'tile': tileidlist,\n",
    "    'annotations': classlist,\n",
    "    'area': arealist,\n",
    "    'confidenceScore': confscorelist})\n",
    "    \n",
    "    # delete \n",
    "    return infresults"
   ]
  },
  {
   "cell_type": "markdown",
   "id": "d8cf4a81",
   "metadata": {},
   "source": [
    "## Prepare for parallel inference"
   ]
  },
  {
   "cell_type": "code",
   "execution_count": 8,
   "id": "91fb9fad",
   "metadata": {},
   "outputs": [],
   "source": [
    "allpath2block2img = [os.path.join(path,name) for path, dirs, files in os.walk(os.path.join(data_dir,'Block2/'))\n",
    "                        for name in files\n",
    "                        if name.endswith('.czi')]\n",
    "allpath2block8img = [os.path.join(path,name) for path, dirs, files in os.walk(os.path.join(data_dir,'Block8/'))\n",
    "                        for name in files\n",
    "                        if name.endswith('.czi')]\n",
    "allpath2block10img = [os.path.join(path,name) for path, dirs, files in os.walk(os.path.join(data_dir,'Block10/'))\n",
    "                        for name in files\n",
    "                        if name.endswith('.czi')]"
   ]
  },
  {
   "cell_type": "code",
   "execution_count": 10,
   "id": "4c0cca8c",
   "metadata": {},
   "outputs": [],
   "source": [
    "# Get file sizes for each file\n",
    "file_sizes = [(path, os.path.getsize(path)) for path in allpath2block2img]\n",
    "# Sort the file paths based on file sizes\n",
    "sorted_path2block2img = [item[0] for item in sorted(file_sizes, key=lambda x: x[1])]\n",
    "\n",
    "file_sizes = [(path, os.path.getsize(path)) for path in allpath2block8img]\n",
    "sorted_path2block8img = [item[0] for item in sorted(file_sizes, key=lambda x: x[1])]\n",
    "\n",
    "file_sizes = [(path, os.path.getsize(path)) for path in allpath2block10img]\n",
    "sorted_path2block10img = [item[0] for item in sorted(file_sizes, key=lambda x: x[1])]\n"
   ]
  },
  {
   "cell_type": "code",
   "execution_count": 11,
   "id": "54da2787",
   "metadata": {},
   "outputs": [
    {
     "name": "stdout",
     "output_type": "stream",
     "text": [
      "344\n",
      "384\n",
      "337\n"
     ]
    }
   ],
   "source": [
    "print(len(sorted_path2block2img))\n",
    "print(len(sorted_path2block8img))\n",
    "print(len(sorted_path2block10img))"
   ]
  },
  {
   "cell_type": "code",
   "execution_count": 23,
   "id": "2e55bfbd",
   "metadata": {},
   "outputs": [],
   "source": [
    "def findBGRmean(file):\n",
    "    czi = AICSImage(file)\n",
    "    scenes = czi.scenes\n",
    "    x = random.choice(scenes)\n",
    "    czi.set_scene(x)\n",
    "    img_array = czi.get_image_data(\"YXS\", T=0,C=0,Z=0)\n",
    "    # Convert numpy ndarray to PyTorch tensor\n",
    "    img_tensor = torch.from_numpy(img_array).float()  # Convert data type to float\n",
    "    # Change the dimensions to (channels, height, width)\n",
    "    img_tensor = img_tensor.permute(2, 0, 1)\n",
    "    # Calculate the mean for each channel\n",
    "    mean_values = img_tensor.mean(dim=[1, 2])\n",
    "    return mean_values.unsqueeze(0)"
   ]
  },
  {
   "cell_type": "code",
   "execution_count": 42,
   "id": "c1e128f6",
   "metadata": {},
   "outputs": [],
   "source": [
    "@ray.remote\n",
    "def rfindBGRmean(file):\n",
    "    czi = AICSImage(file)\n",
    "    scenes = czi.scenes\n",
    "    x = random.choice(scenes)\n",
    "    czi.set_scene(x)\n",
    "    img_array = czi.get_image_data(\"YXS\", T=0,C=0,Z=0)\n",
    "    # Convert numpy ndarray to PyTorch tensor\n",
    "    img_tensor = torch.from_numpy(img_array).float()  # Convert data type to float\n",
    "    # Change the dimensions to (channels, height, width)\n",
    "    img_tensor = img_tensor.permute(2, 0, 1)\n",
    "    # Calculate the mean for each channel\n",
    "    mean_values = img_tensor.mean(dim=[1, 2])\n",
    "    return mean_values.unsqueeze(0)"
   ]
  },
  {
   "cell_type": "code",
   "execution_count": 13,
   "id": "a8741da9",
   "metadata": {},
   "outputs": [],
   "source": [
    "testczi = AICSImage(sorted_path2block2img[343])"
   ]
  },
  {
   "cell_type": "code",
   "execution_count": 24,
   "id": "def29b9f",
   "metadata": {},
   "outputs": [],
   "source": [
    "means = findBGRmean(sorted_path2block2img[343])"
   ]
  },
  {
   "cell_type": "code",
   "execution_count": 25,
   "id": "0c8c10ad",
   "metadata": {},
   "outputs": [
    {
     "name": "stdout",
     "output_type": "stream",
     "text": [
      "torch.Size([1, 3])\n"
     ]
    }
   ],
   "source": [
    "print(means.shape)"
   ]
  },
  {
   "cell_type": "code",
   "execution_count": 21,
   "id": "c15e9642",
   "metadata": {},
   "outputs": [],
   "source": [
    "# randomly choose 30 scenes from block2 images\n",
    "sample30 = random.sample(allpath2block2img,30)\n",
    "file_sizes = [(path, os.path.getsize(path)) for path in sample30]\n",
    "sorted_sample30 = [item[0] for item in sorted(file_sizes, key=lambda x: x[1])]"
   ]
  },
  {
   "cell_type": "code",
   "execution_count": 44,
   "id": "532e6491",
   "metadata": {},
   "outputs": [
    {
     "name": "stderr",
     "output_type": "stream",
     "text": [
      "2023-10-02 23:50:01,149\tINFO worker.py:1612 -- Started a local Ray instance. View the dashboard at \u001b[1m\u001b[32mhttp://127.0.0.1:8265 \u001b[39m\u001b[22m\n"
     ]
    },
    {
     "data": {
      "application/vnd.jupyter.widget-view+json": {
       "model_id": "c5225376496b48f4bfbe90a26aace4b5",
       "version_major": 2,
       "version_minor": 0
      },
      "text/html": [
       "<div class=\"lm-Widget p-Widget lm-Panel p-Panel jp-Cell-outputWrapper\">\n",
       "    <div style=\"margin-left: 50px;display: flex;flex-direction: row;align-items: center\">\n",
       "        <div class=\"jp-RenderedHTMLCommon\" style=\"display: flex; flex-direction: row;\">\n",
       "  <svg viewBox=\"0 0 567 224\" fill=\"none\" xmlns=\"http://www.w3.org/2000/svg\" style=\"height: 3em;\">\n",
       "    <g clip-path=\"url(#clip0_4338_178347)\">\n",
       "        <path d=\"M341.29 165.561H355.29L330.13 129.051C345.63 123.991 354.21 112.051 354.21 94.2307C354.21 71.3707 338.72 58.1807 311.88 58.1807H271V165.561H283.27V131.661H311.8C314.25 131.661 316.71 131.501 319.01 131.351L341.25 165.561H341.29ZM283.29 119.851V70.0007H311.82C331.3 70.0007 342.34 78.2907 342.34 94.5507C342.34 111.271 331.34 119.861 311.82 119.861L283.29 119.851ZM451.4 138.411L463.4 165.561H476.74L428.74 58.1807H416L367.83 165.561H380.83L392.83 138.411H451.4ZM446.19 126.601H398L422 72.1407L446.24 126.601H446.19ZM526.11 128.741L566.91 58.1807H554.35L519.99 114.181L485.17 58.1807H472.44L514.01 129.181V165.541H526.13V128.741H526.11Z\" fill=\"var(--jp-ui-font-color0)\"/>\n",
       "        <path d=\"M82.35 104.44C84.0187 97.8827 87.8248 92.0678 93.1671 87.9146C98.5094 83.7614 105.083 81.5067 111.85 81.5067C118.617 81.5067 125.191 83.7614 130.533 87.9146C135.875 92.0678 139.681 97.8827 141.35 104.44H163.75C164.476 101.562 165.622 98.8057 167.15 96.2605L127.45 56.5605C121.071 60.3522 113.526 61.6823 106.235 60.3005C98.9443 58.9187 92.4094 54.9203 87.8602 49.0574C83.3109 43.1946 81.0609 35.8714 81.5332 28.4656C82.0056 21.0599 85.1679 14.0819 90.4252 8.8446C95.6824 3.60726 102.672 0.471508 110.08 0.0272655C117.487 -0.416977 124.802 1.86091 130.647 6.4324C136.493 11.0039 140.467 17.5539 141.821 24.8501C143.175 32.1463 141.816 39.6859 138 46.0505L177.69 85.7505C182.31 82.9877 187.58 81.4995 192.962 81.4375C198.345 81.3755 203.648 82.742 208.33 85.3976C213.012 88.0532 216.907 91.9029 219.616 96.5544C222.326 101.206 223.753 106.492 223.753 111.875C223.753 117.258 222.326 122.545 219.616 127.197C216.907 131.848 213.012 135.698 208.33 138.353C203.648 141.009 198.345 142.375 192.962 142.313C187.58 142.251 182.31 140.763 177.69 138L138 177.7C141.808 184.071 143.155 191.614 141.79 198.91C140.424 206.205 136.44 212.75 130.585 217.313C124.731 221.875 117.412 224.141 110.004 223.683C102.596 223.226 95.6103 220.077 90.3621 214.828C85.1139 209.58 81.9647 202.595 81.5072 195.187C81.0497 187.779 83.3154 180.459 87.878 174.605C92.4405 168.751 98.9853 164.766 106.281 163.401C113.576 162.035 121.119 163.383 127.49 167.19L167.19 127.49C165.664 124.941 164.518 122.182 163.79 119.3H141.39C139.721 125.858 135.915 131.673 130.573 135.826C125.231 139.98 118.657 142.234 111.89 142.234C105.123 142.234 98.5494 139.98 93.2071 135.826C87.8648 131.673 84.0587 125.858 82.39 119.3H60C58.1878 126.495 53.8086 132.78 47.6863 136.971C41.5641 141.163 34.1211 142.972 26.7579 142.059C19.3947 141.146 12.6191 137.574 7.70605 132.014C2.79302 126.454 0.0813599 119.29 0.0813599 111.87C0.0813599 104.451 2.79302 97.2871 7.70605 91.7272C12.6191 86.1673 19.3947 82.5947 26.7579 81.6817C34.1211 80.7686 41.5641 82.5781 47.6863 86.7696C53.8086 90.9611 58.1878 97.2456 60 104.44H82.35ZM100.86 204.32C103.407 206.868 106.759 208.453 110.345 208.806C113.93 209.159 117.527 208.258 120.522 206.256C123.517 204.254 125.725 201.276 126.771 197.828C127.816 194.38 127.633 190.677 126.253 187.349C124.874 184.021 122.383 181.274 119.205 179.577C116.027 177.88 112.359 177.337 108.826 178.042C105.293 178.746 102.113 180.654 99.8291 183.44C97.5451 186.226 96.2979 189.718 96.3 193.32C96.2985 195.364 96.7006 197.388 97.4831 199.275C98.2656 201.163 99.4132 202.877 100.86 204.32ZM204.32 122.88C206.868 120.333 208.453 116.981 208.806 113.396C209.159 109.811 208.258 106.214 206.256 103.219C204.254 100.223 201.275 98.0151 197.827 96.97C194.38 95.9249 190.676 96.1077 187.348 97.4873C184.02 98.8669 181.274 101.358 179.577 104.536C177.879 107.714 177.337 111.382 178.041 114.915C178.746 118.448 180.653 121.627 183.439 123.911C186.226 126.195 189.717 127.443 193.32 127.44C195.364 127.443 197.388 127.042 199.275 126.259C201.163 125.476 202.878 124.328 204.32 122.88ZM122.88 19.4205C120.333 16.8729 116.981 15.2876 113.395 14.9347C109.81 14.5817 106.213 15.483 103.218 17.4849C100.223 19.4868 98.0146 22.4654 96.9696 25.9131C95.9245 29.3608 96.1073 33.0642 97.4869 36.3922C98.8665 39.7202 101.358 42.4668 104.535 44.1639C107.713 45.861 111.381 46.4036 114.914 45.6992C118.447 44.9949 121.627 43.0871 123.911 40.301C126.195 37.515 127.442 34.0231 127.44 30.4205C127.44 28.3772 127.038 26.3539 126.255 24.4664C125.473 22.5788 124.326 20.8642 122.88 19.4205ZM19.42 100.86C16.8725 103.408 15.2872 106.76 14.9342 110.345C14.5813 113.93 15.4826 117.527 17.4844 120.522C19.4863 123.518 22.4649 125.726 25.9127 126.771C29.3604 127.816 33.0638 127.633 36.3918 126.254C39.7198 124.874 42.4664 122.383 44.1635 119.205C45.8606 116.027 46.4032 112.359 45.6988 108.826C44.9944 105.293 43.0866 102.114 40.3006 99.8296C37.5145 97.5455 34.0227 96.2983 30.42 96.3005C26.2938 96.3018 22.337 97.9421 19.42 100.86ZM100.86 100.86C98.3125 103.408 96.7272 106.76 96.3742 110.345C96.0213 113.93 96.9226 117.527 98.9244 120.522C100.926 123.518 103.905 125.726 107.353 126.771C110.8 127.816 114.504 127.633 117.832 126.254C121.16 124.874 123.906 122.383 125.604 119.205C127.301 116.027 127.843 112.359 127.139 108.826C126.434 105.293 124.527 102.114 121.741 99.8296C118.955 97.5455 115.463 96.2983 111.86 96.3005C109.817 96.299 107.793 96.701 105.905 97.4835C104.018 98.2661 102.303 99.4136 100.86 100.86Z\" fill=\"#00AEEF\"/>\n",
       "    </g>\n",
       "    <defs>\n",
       "        <clipPath id=\"clip0_4338_178347\">\n",
       "            <rect width=\"566.93\" height=\"223.75\" fill=\"white\"/>\n",
       "        </clipPath>\n",
       "    </defs>\n",
       "  </svg>\n",
       "</div>\n",
       "\n",
       "        <table class=\"jp-RenderedHTMLCommon\" style=\"border-collapse: collapse;color: var(--jp-ui-font-color1);font-size: var(--jp-ui-font-size1);\">\n",
       "    <tr>\n",
       "        <td style=\"text-align: left\"><b>Python version:</b></td>\n",
       "        <td style=\"text-align: left\"><b>3.8.18</b></td>\n",
       "    </tr>\n",
       "    <tr>\n",
       "        <td style=\"text-align: left\"><b>Ray version:</b></td>\n",
       "        <td style=\"text-align: left\"><b>2.6.3</b></td>\n",
       "    </tr>\n",
       "    <tr>\n",
       "    <td style=\"text-align: left\"><b>Dashboard:</b></td>\n",
       "    <td style=\"text-align: left\"><b><a href=\"http://127.0.0.1:8265\" target=\"_blank\">http://127.0.0.1:8265</a></b></td>\n",
       "</tr>\n",
       "\n",
       "</table>\n",
       "\n",
       "    </div>\n",
       "</div>\n"
      ],
      "text/plain": [
       "RayContext(dashboard_url='127.0.0.1:8265', python_version='3.8.18', ray_version='2.6.3', ray_commit='8a434b4ee7cd48e60fa1531315d39901fac5d79e', protocol_version=None)"
      ]
     },
     "execution_count": 44,
     "metadata": {},
     "output_type": "execute_result"
    }
   ],
   "source": [
    "ray.init(num_cpus=18, ignore_reinit_error=True)"
   ]
  },
  {
   "cell_type": "code",
   "execution_count": 45,
   "id": "c902adb4",
   "metadata": {},
   "outputs": [
    {
     "name": "stdout",
     "output_type": "stream",
     "text": [
      "iteration: 1\n",
      "iteration: 2\n",
      "iteration: 3\n",
      "iteration: 4\n",
      "iteration: 5\n",
      "iteration: 6\n",
      "iteration: 7\n",
      "iteration: 8\n",
      "iteration: 9\n",
      "iteration: 10\n",
      "iteration: 11\n",
      "iteration: 12\n",
      "iteration: 13\n",
      "iteration: 14\n",
      "iteration: 15\n",
      "iteration: 16\n",
      "iteration: 17\n",
      "iteration: 18\n",
      "iteration: 19\n",
      "iteration: 20\n",
      "iteration: 21\n",
      "iteration: 22\n",
      "iteration: 23\n",
      "iteration: 24\n",
      "iteration: 25\n",
      "iteration: 26\n",
      "iteration: 27\n",
      "iteration: 28\n",
      "iteration: 29\n",
      "iteration: 30\n",
      "Time Elapsed:\t34.5561\n"
     ]
    }
   ],
   "source": [
    "id30 = [rfindBGRmean.remote(czi) for czi in sample30]\n",
    "results = []\n",
    "t0 = time.time()\n",
    "for i in range(1,40):\n",
    "    ready, not_ready = ray.wait(id30, num_returns = 1)\n",
    "    print('iteration:', i) \n",
    "    results.extend(ray.get(ready))\n",
    "    del ready\n",
    "    id30 = not_ready\n",
    "    if not id30: \n",
    "        break\n",
    "print('Time Elapsed:\\t{:.4f}'.format(time.time() - t0))"
   ]
  },
  {
   "cell_type": "code",
   "execution_count": 43,
   "id": "ee89b748",
   "metadata": {},
   "outputs": [],
   "source": [
    "ray.shutdown()"
   ]
  },
  {
   "cell_type": "code",
   "execution_count": 46,
   "id": "3f532fba",
   "metadata": {},
   "outputs": [
    {
     "name": "stdout",
     "output_type": "stream",
     "text": [
      "[tensor([[174.9772, 174.4386, 173.9380]]), tensor([[135.9655, 135.5739, 135.5250]]), tensor([[162.2106, 158.3190, 157.7910]]), tensor([[149.1607, 147.1816, 146.7908]]), tensor([[170.2700, 168.7100, 168.2848]]), tensor([[152.6491, 150.6038, 150.2349]]), tensor([[116.8860, 115.9650, 114.6433]]), tensor([[132.3646, 132.6676, 132.8183]]), tensor([[126.8691, 125.2042, 124.5668]]), tensor([[143.1965, 141.5301, 141.2795]]), tensor([[124.6719, 123.9459, 123.7732]]), tensor([[149.2669, 147.0962, 146.4940]]), tensor([[126.3323, 123.8550, 123.2347]]), tensor([[137.9844, 137.6405, 137.1638]]), tensor([[148.0428, 147.6507, 146.1341]]), tensor([[124.5397, 123.0701, 122.6528]]), tensor([[128.9459, 126.8098, 126.2509]]), tensor([[104.0251, 103.3973, 103.3155]]), tensor([[119.4886, 116.3476, 115.5772]]), tensor([[102.5644,  99.8095,  99.2338]]), tensor([[107.3763, 105.3407, 104.7592]]), tensor([[128.4014, 127.4890, 127.3115]]), tensor([[162.4699, 160.4639, 159.9668]]), tensor([[142.3185, 139.3402, 138.6194]]), tensor([[164.1126, 162.0600, 161.8238]]), tensor([[114.5334, 112.9199, 112.4599]]), tensor([[110.5756, 110.3155, 109.2499]]), tensor([[112.8675, 111.2384, 110.6634]]), tensor([[137.1409, 134.3118, 133.6543]]), tensor([[142.4004, 139.7591, 139.0365]])]\n"
     ]
    }
   ],
   "source": [
    "print(results)"
   ]
  },
  {
   "cell_type": "code",
   "execution_count": 47,
   "id": "40cfff0e",
   "metadata": {
    "scrolled": true
   },
   "outputs": [],
   "source": [
    "results_ts = torch.cat(results, dim=0)\n",
    "block2BGRmeans = results_ts.mean(dim=0)"
   ]
  },
  {
   "cell_type": "code",
   "execution_count": 49,
   "id": "882db436",
   "metadata": {},
   "outputs": [
    {
     "name": "stdout",
     "output_type": "stream",
     "text": [
      "tensor([135.0869, 133.4352, 132.9082])\n"
     ]
    }
   ],
   "source": [
    "print(block2BGRmeans)"
   ]
  }
 ],
 "metadata": {
  "kernelspec": {
   "display_name": "Python [conda env:detectron2-py38]",
   "language": "python",
   "name": "conda-env-detectron2-py38-py"
  },
  "language_info": {
   "codemirror_mode": {
    "name": "ipython",
    "version": 3
   },
   "file_extension": ".py",
   "mimetype": "text/x-python",
   "name": "python",
   "nbconvert_exporter": "python",
   "pygments_lexer": "ipython3",
   "version": "3.8.18"
  }
 },
 "nbformat": 4,
 "nbformat_minor": 5
}
