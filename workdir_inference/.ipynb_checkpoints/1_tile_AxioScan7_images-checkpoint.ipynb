{
 "cells": [
  {
   "cell_type": "code",
   "execution_count": null,
   "id": "9e0d589d",
   "metadata": {},
   "outputs": [],
   "source": [
    "# read a Axioscan 7 czi image by scene\n",
    "# tile each scene to 512x512x3 \n",
    "# name each tile by org image name + tile coordinates\n",
    "# write as png\n",
    "\n"
   ]
  },
  {
   "cell_type": "code",
   "execution_count": 1,
   "id": "19f2982c",
   "metadata": {},
   "outputs": [],
   "source": [
    "import os\n",
    "import sys\n",
    "import json\n",
    "import uuid as uuid\n",
    "import cv2\n",
    "import re\n",
    "import shutil\n",
    "from operator import itemgetter\n",
    "import math\n",
    "import random\n",
    "import seaborn as sns\n",
    "import pandas as pd\n",
    "import numpy as np\n",
    "import matplotlib.pyplot as plt\n",
    "\n",
    "import shapely\n",
    "import shapely.geometry\n",
    "from shapely.geometry import Polygon,MultiPolygon,GeometryCollection\n",
    "from shapely.validation import make_valid\n",
    "from shapely.geometry import mapping\n",
    "import geopandas as gpd\n",
    "\n",
    "import imgfileutils as imf\n",
    "#import segmentation_tools as sgt\n",
    "from aicsimageio import AICSImage, imread\n",
    "from skimage import measure, segmentation\n",
    "from skimage.measure import regionprops\n",
    "from skimage.color import label2rgb\n",
    "import progressbar\n",
    "from IPython.display import display, HTML\n",
    "from MightyMosaic import MightyMosaic\n",
    "\n",
    "import argparse\n",
    "import glob\n",
    "import bioformats\n",
    "import javabridge\n",
    "from PIL import Image\n",
    "\n",
    "import csv"
   ]
  },
  {
   "cell_type": "code",
   "execution_count": 3,
   "id": "508432bf",
   "metadata": {},
   "outputs": [],
   "source": [
    "# setup directory\n",
    "root = r'/Users/lovely_shufan/'\n",
    "project_dir = root + r'Dropbox (Edison_Lab@UGA)/AMF/AMF Imaging/2_training_Mask_RCNN/Shufan/inference_on_amfinder_images_using_Yue_best_performing_models/'\n",
    "rawdata_dir = project_dir + r'0_raw_data/MINE_2022_imaged_by_Isabella_Wilson/'\n",
    "tile_dir = project_dir + r'1_tiled_png_data/MINE_2022_imaged_by_Isabella_Wilson/'\n",
    "\n",
    "#os.makedirs(rawdata_dir, exist_ok=True)\n",
    "os.makedirs(tile_dir, exist_ok=True)"
   ]
  },
  {
   "cell_type": "code",
   "execution_count": 4,
   "id": "8804806a",
   "metadata": {
    "scrolled": true
   },
   "outputs": [
    {
     "name": "stdout",
     "output_type": "stream",
     "text": [
      "['PI52606_1.czi', 'PI52606_2.czi', 'PI52606_3.czi']\n"
     ]
    }
   ],
   "source": [
    "print(os.listdir(rawdata_dir))"
   ]
  },
  {
   "cell_type": "code",
   "execution_count": 7,
   "id": "bf0024f4",
   "metadata": {},
   "outputs": [
    {
     "name": "stdout",
     "output_type": "stream",
     "text": [
      "('ScanRegion0', 'ScanRegion1', 'ScanRegion2', 'ScanRegion3', 'ScanRegion4', 'ScanRegion5', 'ScanRegion6', 'ScanRegion7', 'ScanRegion8', 'ScanRegion9', 'ScanRegion10', 'ScanRegion11', 'ScanRegion12', 'ScanRegion13', 'ScanRegion14', 'ScanRegion15', 'ScanRegion16', 'ScanRegion17', 'ScanRegion18', 'ScanRegion19', 'ScanRegion20', 'ScanRegion21', 'ScanRegion22', 'ScanRegion23')\n"
     ]
    }
   ],
   "source": [
    "testimg = AICSImage(os.path.join(rawdata_dir,'PI52606_1.czi'))\n",
    "print(testimg.scenes)"
   ]
  },
  {
   "cell_type": "code",
   "execution_count": null,
   "id": "84239fff",
   "metadata": {},
   "outputs": [],
   "source": [
    "def readczi(img_dir,filename):\n",
    "    '''\n",
    "    :param img_dir:\n",
    "    :param filename:\n",
    "    :return image:\n",
    "    '''\n",
    "    aicsfile = AICSImage(img_file)\n",
    "    aicsfile.set_scene(17)\n",
    "    print(aicsfile.dims)\n",
    "    #scene18, shp = img.read_image(S=18)\n",
    "    scene18 = aicsfile.get_image_data(\"YXS\", T=0,C=0,Z=0) # numpy.ndarray\n",
    "    print(scene18.shape)\n",
    "    \n",
    "    img_file=os.path.join(img_dir,filename)\n",
    "    img=cv2.imread(img_file)\n",
    "    height = img.shape[0]\n",
    "    width = img.shape[1]\n",
    "    # pad image to optimal input image dimension of [1024, 1024]\n",
    "    # padding to the left and the bottom of the image as it was mostly empty\n",
    "    pad_bot = height % 1024 \n",
    "    pad_lft = width % 1024\n",
    "    # pad the image\n",
    "    img = cv2.copyMakeBorder(img,0,pad_bot,pad_lft,0,cv2.BORDER_CONSTANT,value=[0,0,0])\n",
    "    return img"
   ]
  },
  {
   "cell_type": "code",
   "execution_count": null,
   "id": "540de4ed",
   "metadata": {},
   "outputs": [],
   "source": [
    "def tileImage(img):\n",
    "    '''\n",
    "    :param img:\n",
    "    :return list of coordinates:\n",
    "    :rtype list:\n",
    "    Objective: output a list of coordinates for the bounding boxes of the tiles\n",
    "    '''\n",
    "    tiles = [] # an empty list \n",
    "    for i in range(0,img.shape[0],1024):\n",
    "        for j in range(0,img.shape[1],1024):\n",
    "            #print(i, \" \", j)\n",
    "            #tile = [[j, i],[j, i+1024], [j+1024, i], [j+1024, i+1024]]\n",
    "            xmin = j\n",
    "            xmax = j + 1024\n",
    "            ymin = i\n",
    "            ymax = i + 1024\n",
    "            tiles.append([xmin,ymin,xmax,ymax])\n",
    "    #print(tiles)\n",
    "    return tiles"
   ]
  },
  {
   "cell_type": "code",
   "execution_count": null,
   "id": "bc80fec2",
   "metadata": {},
   "outputs": [],
   "source": [
    "## tiling\n",
    "dataset_dicts=[] # a list of records (list of dictionaries named record)\n",
    "for indi,original_image in enumerate(files): #iterate over each image\n",
    "    print(original_image)\n",
    "    img = readImage(img_dir,original_image)\n",
    "    tiles = tileImage(img)"
   ]
  }
 ],
 "metadata": {
  "kernelspec": {
   "display_name": "Python [conda env:czi_shapely_py38]",
   "language": "python",
   "name": "conda-env-czi_shapely_py38-py"
  },
  "language_info": {
   "codemirror_mode": {
    "name": "ipython",
    "version": 3
   },
   "file_extension": ".py",
   "mimetype": "text/x-python",
   "name": "python",
   "nbconvert_exporter": "python",
   "pygments_lexer": "ipython3",
   "version": "3.8.17"
  }
 },
 "nbformat": 4,
 "nbformat_minor": 5
}
