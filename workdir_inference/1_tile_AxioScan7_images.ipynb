{
 "cells": [
  {
   "cell_type": "code",
   "execution_count": null,
   "id": "9e0d589d",
   "metadata": {},
   "outputs": [],
   "source": [
    "# read a Axioscan 7 czi image by scene\n",
    "# tile each scene to 512x512x3 \n",
    "# name each tile by org image name + tile coordinates\n",
    "# write as png\n",
    "\n"
   ]
  },
  {
   "cell_type": "code",
   "execution_count": 1,
   "id": "dd91fdee",
   "metadata": {},
   "outputs": [],
   "source": [
    "import os\n",
    "import sys\n",
    "import json\n",
    "import uuid as uuid\n",
    "import cv2\n",
    "import re\n",
    "import shutil\n",
    "from operator import itemgetter\n",
    "import math\n",
    "import random\n",
    "import seaborn as sns\n",
    "import pandas as pd\n",
    "import numpy as np\n",
    "import matplotlib.pyplot as plt\n",
    "\n",
    "import shapely\n",
    "import shapely.geometry\n",
    "from shapely.geometry import Polygon,MultiPolygon,GeometryCollection\n",
    "from shapely.validation import make_valid\n",
    "from shapely.geometry import mapping\n",
    "import geopandas as gpd\n",
    "\n",
    "import imgfileutils as imf\n",
    "#import segmentation_tools as sgt\n",
    "from aicsimageio import AICSImage, imread\n",
    "from skimage import measure, segmentation\n",
    "from skimage.measure import regionprops\n",
    "from skimage.color import label2rgb\n",
    "import progressbar\n",
    "from IPython.display import display, HTML\n",
    "from MightyMosaic import MightyMosaic\n",
    "\n",
    "import argparse\n",
    "import glob\n",
    "import bioformats\n",
    "import javabridge\n",
    "from PIL import Image\n",
    "\n",
    "import csv"
   ]
  },
  {
   "cell_type": "code",
   "execution_count": 62,
   "id": "51bf2f33",
   "metadata": {},
   "outputs": [],
   "source": [
    "# setup directory\n",
    "root = r'/Users/lovely_shufan/'\n",
    "project_dir = root + r'Dropbox (Edison_Lab@UGA)/AMF/AMF Imaging 2022/0_inference_using_MaskRCNN_2021/'\n",
    "rawdata_dir = project_dir + r'0_raw_czi/GA_MINE_2022_imaged_by_Isabella_Wilson/'\n",
    "output_dir = project_dir + r'1_tile_png/GA_MINE_2022_imaged_by_Isabella_Wilson/'\n",
    "\n",
    "#os.makedirs(rawdata_dir, exist_ok=True)\n",
    "#os.makedirs(output_dir, exist_ok=True)\n",
    "\n",
    "# address to training images\n",
    "trainimg_dir = root + r'Dropbox (Edison_Lab@UGA)/AMF/AMF Imaging 2021/0_Image_Collection/ZEISS Primo Star/Georgia/'"
   ]
  },
  {
   "cell_type": "code",
   "execution_count": 65,
   "id": "e2d4b412",
   "metadata": {},
   "outputs": [
    {
     "ename": "TypeError",
     "evalue": "'NoneType' object is not subscriptable",
     "output_type": "error",
     "traceback": [
      "\u001b[0;31m---------------------------------------------------------------------------\u001b[0m",
      "\u001b[0;31mTypeError\u001b[0m                                 Traceback (most recent call last)",
      "Cell \u001b[0;32mIn[65], line 11\u001b[0m\n\u001b[1;32m      9\u001b[0m img \u001b[38;5;241m=\u001b[39m cv2\u001b[38;5;241m.\u001b[39mimread(os\u001b[38;5;241m.\u001b[39mpath\u001b[38;5;241m.\u001b[39mjoin(path, name), cv2\u001b[38;5;241m.\u001b[39mIMREAD_COLOR)\n\u001b[1;32m     10\u001b[0m \u001b[38;5;28;01mfor\u001b[39;00m i \u001b[38;5;129;01min\u001b[39;00m \u001b[38;5;28mrange\u001b[39m(\u001b[38;5;241m0\u001b[39m,\u001b[38;5;241m3\u001b[39m,\u001b[38;5;241m1\u001b[39m):\n\u001b[0;32m---> 11\u001b[0m     mean_color \u001b[38;5;241m=\u001b[39m np\u001b[38;5;241m.\u001b[39mmean(\u001b[43mimg\u001b[49m\u001b[43m[\u001b[49m\u001b[43m:\u001b[49m\u001b[43m,\u001b[49m\u001b[43m:\u001b[49m\u001b[43m,\u001b[49m\u001b[43mi\u001b[49m\u001b[43m]\u001b[49m)\n\u001b[1;32m     12\u001b[0m     channels[i]\u001b[38;5;241m.\u001b[39mappend(mean_color)\n",
      "\u001b[0;31mTypeError\u001b[0m: 'NoneType' object is not subscriptable"
     ]
    }
   ],
   "source": [
    "blue_means =[]\n",
    "green_means = []\n",
    "red_means = []\n",
    "channels = [blue_means, green_means, red_means]\n",
    "\n",
    "for path, dirs, files in os.walk(trainimg_dir, topdown=False):\n",
    "    for name in files:\n",
    "        if name.endswith('.jpg'):\n",
    "            img = cv2.imread(os.path.join(path, name), cv2.IMREAD_COLOR)\n",
    "            for i in range(0,3,1):\n",
    "                mean_color = np.mean(img[:,:,i])\n",
    "                channels[i].append(mean_color)"
   ]
  },
  {
   "cell_type": "code",
   "execution_count": 55,
   "id": "8a017f21",
   "metadata": {},
   "outputs": [
    {
     "name": "stdout",
     "output_type": "stream",
     "text": [
      "Snap-447.jpg\n"
     ]
    },
    {
     "name": "stderr",
     "output_type": "stream",
     "text": [
      "[ WARN:0@18251.916] global loadsave.cpp:248 findDecoder imread_('Snap-447.jpg'): can't open/read file: check file path/integrity\n"
     ]
    },
    {
     "ename": "TypeError",
     "evalue": "'NoneType' object is not subscriptable",
     "output_type": "error",
     "traceback": [
      "\u001b[0;31m---------------------------------------------------------------------------\u001b[0m",
      "\u001b[0;31mTypeError\u001b[0m                                 Traceback (most recent call last)",
      "Cell \u001b[0;32mIn[55], line 11\u001b[0m\n\u001b[1;32m      9\u001b[0m img \u001b[38;5;241m=\u001b[39m cv2\u001b[38;5;241m.\u001b[39mimread(file, cv2\u001b[38;5;241m.\u001b[39mIMREAD_COLOR)\n\u001b[1;32m     10\u001b[0m \u001b[38;5;28;01mfor\u001b[39;00m i \u001b[38;5;129;01min\u001b[39;00m \u001b[38;5;28mrange\u001b[39m(\u001b[38;5;241m0\u001b[39m,\u001b[38;5;241m3\u001b[39m,\u001b[38;5;241m1\u001b[39m):\n\u001b[0;32m---> 11\u001b[0m     mean_color \u001b[38;5;241m=\u001b[39m np\u001b[38;5;241m.\u001b[39mmean(\u001b[43mimg\u001b[49m\u001b[43m[\u001b[49m\u001b[43m:\u001b[49m\u001b[43m,\u001b[49m\u001b[43m:\u001b[49m\u001b[43m,\u001b[49m\u001b[43mi\u001b[49m\u001b[43m]\u001b[49m)\n\u001b[1;32m     12\u001b[0m     channels[i]\u001b[38;5;241m.\u001b[39mappend(mean_color)\n",
      "\u001b[0;31mTypeError\u001b[0m: 'NoneType' object is not subscriptable"
     ]
    }
   ],
   "source": [
    "blue_means =[]\n",
    "green_means = []\n",
    "red_means = []\n",
    "channels = [blue_means, green_means, red_means]\n",
    "\n",
    "for file in os.listdir(trainimg_dir):\n",
    "    if file.endswith(\".jpg\"):\n",
    "        print(file)\n",
    "        img = cv2.imread(file, cv2.IMREAD_COLOR)\n",
    "        for i in range(0,3,1):\n",
    "            mean_color = np.mean(img[:,:,i])\n",
    "            channels[i].append(mean_color)\n",
    "            "
   ]
  },
  {
   "cell_type": "code",
   "execution_count": 32,
   "id": "ce7324c1",
   "metadata": {
    "scrolled": true
   },
   "outputs": [
    {
     "name": "stdout",
     "output_type": "stream",
     "text": [
      "['PI52606_1.czi', 'PI52606_2.czi', 'PI52606_3.czi']\n"
     ]
    }
   ],
   "source": [
    "print(os.listdir(rawdata_dir))"
   ]
  },
  {
   "cell_type": "code",
   "execution_count": 43,
   "id": "be4f94e8",
   "metadata": {},
   "outputs": [
    {
     "name": "stdout",
     "output_type": "stream",
     "text": [
      "('ScanRegion0', 'ScanRegion1', 'ScanRegion2', 'ScanRegion3', 'ScanRegion4', 'ScanRegion5', 'ScanRegion6', 'ScanRegion7', 'ScanRegion8', 'ScanRegion9', 'ScanRegion10', 'ScanRegion11', 'ScanRegion12', 'ScanRegion13', 'ScanRegion14', 'ScanRegion15', 'ScanRegion16', 'ScanRegion17', 'ScanRegion18', 'ScanRegion19', 'ScanRegion20', 'ScanRegion21', 'ScanRegion22', 'ScanRegion23')\n",
      "(1, 1, 1, 6920, 16850, 3)\n"
     ]
    }
   ],
   "source": [
    "testimg = AICSImage(os.path.join(rawdata_dir,'PI52606_1.czi'))\n",
    "print(testimg.scenes)\n",
    "print(testimg.shape)"
   ]
  },
  {
   "cell_type": "code",
   "execution_count": 49,
   "id": "3365e218",
   "metadata": {},
   "outputs": [],
   "source": [
    "def padImg(img, tilex, tiley):\n",
    "    '''\n",
    "    :param img:\n",
    "    :return padded img:\n",
    "    \n",
    "    :rtype ndnumpy.array:\n",
    "    Objective: output a padded image dividle by tile size\n",
    "    '''\n",
    "    y = img.shape[0]\n",
    "    x = img.shape[1]\n",
    "    pad_top = tiley - (y % tiley)\n",
    "    pad_lft = tilex - (x % tilex)\n",
    "    img = cv2.copyMakeBorder(img,pad_top,0,pad_lft,0,cv2.BORDER_CONSTANT,value=[0,0,0])\n",
    "    \n",
    "    return img\n",
    "\n",
    "def makeTiles(file, scene, img, tilex, tiley, output_dir):\n",
    "    '''\n",
    "    :param file: name of axioscan7 image file\n",
    "    :paramtype str:\n",
    "    :param scene: name of scene\n",
    "    :paramtype str:\n",
    "    :param img: \n",
    "    :paramtype ndnumpy.array:\n",
    "    :param tilesize: size of desired tile \n",
    "    :paramtype int:  \n",
    "    :param outputdir: \n",
    "    :paramtype str:\n",
    "\n",
    "    Objective: write tiled images to output dir\n",
    "    '''\n",
    "    for i in range(0,img.shape[0],tiley):\n",
    "        for j in range(0,img.shape[1],tilex):\n",
    "            #print(i, \" \", j)\n",
    "            #tile = [[j, i],[j, i+1024], [j+1024, i], [j+1024, i+1024]]\n",
    "            xmin = j\n",
    "            xmax = j + tilex\n",
    "            ymin = i\n",
    "            ymax = i + tiley\n",
    "            \n",
    "            subimg = img[ymin:ymax,xmin:xmax]\n",
    "            tile_id = file[:-4] + '_' +scene + '_' +str(xmin)+\"_\"+str(ymin)+\"_\"+str(xmax)+\"_\"+str(ymax)\n",
    "            \n",
    "            # write the tile image to the output directory\n",
    "            cv2.imwrite(os.path.join(output_dir,tile_id+'.png'),subimg)    "
   ]
  },
  {
   "cell_type": "code",
   "execution_count": 51,
   "id": "16efbaf7",
   "metadata": {},
   "outputs": [
    {
     "name": "stdout",
     "output_type": "stream",
     "text": [
      "PI52606_1.czi\n",
      "ScanRegion0\n",
      "ScanRegion1\n",
      "ScanRegion2\n",
      "ScanRegion3\n",
      "ScanRegion4\n",
      "ScanRegion5\n",
      "ScanRegion6\n",
      "ScanRegion7\n",
      "ScanRegion8\n",
      "ScanRegion9\n",
      "ScanRegion10\n",
      "ScanRegion11\n",
      "ScanRegion12\n",
      "ScanRegion13\n",
      "ScanRegion14\n",
      "ScanRegion15\n",
      "ScanRegion16\n",
      "ScanRegion17\n",
      "ScanRegion18\n",
      "ScanRegion19\n",
      "ScanRegion20\n",
      "ScanRegion21\n",
      "ScanRegion22\n",
      "ScanRegion23\n",
      "PI52606_2.czi\n",
      "ScanRegion0\n",
      "ScanRegion1\n",
      "ScanRegion2\n",
      "ScanRegion3\n",
      "ScanRegion4\n",
      "ScanRegion5\n",
      "ScanRegion6\n",
      "ScanRegion7\n",
      "ScanRegion8\n",
      "ScanRegion9\n",
      "ScanRegion10\n",
      "ScanRegion11\n",
      "ScanRegion12\n",
      "ScanRegion13\n",
      "ScanRegion14\n",
      "ScanRegion15\n",
      "ScanRegion16\n",
      "ScanRegion17\n",
      "ScanRegion18\n",
      "ScanRegion19\n",
      "ScanRegion20\n",
      "ScanRegion21\n",
      "ScanRegion22\n",
      "ScanRegion23\n",
      "ScanRegion24\n",
      "ScanRegion25\n",
      "ScanRegion26\n",
      "ScanRegion27\n",
      "ScanRegion28\n",
      "ScanRegion29\n",
      "PI52606_3.czi\n",
      "ScanRegion1\n",
      "ScanRegion2\n",
      "ScanRegion3\n",
      "ScanRegion4\n",
      "ScanRegion5\n",
      "ScanRegion6\n",
      "ScanRegion7\n",
      "ScanRegion8\n",
      "ScanRegion9\n",
      "ScanRegion10\n",
      "ScanRegion11\n",
      "ScanRegion12\n",
      "ScanRegion13\n",
      "ScanRegion14\n",
      "ScanRegion15\n",
      "ScanRegion16\n",
      "ScanRegion17\n",
      "ScanRegion18\n",
      "ScanRegion19\n",
      "ScanRegion20\n",
      "ScanRegion21\n",
      "ScanRegion22\n",
      "ScanRegion23\n",
      "ScanRegion24\n"
     ]
    }
   ],
   "source": [
    "for file in os.listdir(rawdata_dir):\n",
    "    print(file)\n",
    "    czifile = AICSImage(os.path.join(rawdata_dir,file))\n",
    "    for scene in czifile.scenes:\n",
    "        print(scene)\n",
    "        czifile.set_scene(scene)\n",
    "        #print(testimg.dims)\n",
    "        img = czifile.get_image_data(\"YXS\", T=0,C=0,Z=0) # numpy.ndarray\n",
    "        #print(img.shape)\n",
    "\n",
    "        # pad the image to be dividible by tile size\n",
    "        img = padImg(img, 2560, 1920)\n",
    "        #print(img.shape)\n",
    "        \n",
    "        # crop images to tiles\n",
    "        tiles = makeTiles(file, scene, img, 2560, 1920, output_dir)\n",
    "        #print(tiles)"
   ]
  }
 ],
 "metadata": {
  "kernelspec": {
   "display_name": "Python [conda env:czi_shapely_py38]",
   "language": "python",
   "name": "conda-env-czi_shapely_py38-py"
  },
  "language_info": {
   "codemirror_mode": {
    "name": "ipython",
    "version": 3
   },
   "file_extension": ".py",
   "mimetype": "text/x-python",
   "name": "python",
   "nbconvert_exporter": "python",
   "pygments_lexer": "ipython3",
   "version": "3.8.17"
  }
 },
 "nbformat": 4,
 "nbformat_minor": 5
}
