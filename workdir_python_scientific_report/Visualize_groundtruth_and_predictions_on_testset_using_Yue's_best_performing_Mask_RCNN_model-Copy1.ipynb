{
 "cells": [
  {
   "cell_type": "code",
   "execution_count": 1,
   "id": "c628baa5",
   "metadata": {},
   "outputs": [],
   "source": [
    "# Setup detectron2 logger\n",
    "import argparse\n",
    "import os\n",
    "import random\n",
    "import shutil\n",
    "import time\n",
    "import warnings\n",
    "import pickle\n",
    "import numpy as np\n",
    "import math\n",
    "import sys\n",
    "import copy\n",
    "import re\n",
    "import pandas as pd\n",
    "import matplotlib.pyplot as plt\n",
    "import json\n",
    "import cv2\n",
    "from itertools import compress\n",
    "from shapely.geometry import Polygon\n",
    "\n",
    "import torch\n",
    "import torch.nn as nn\n",
    "import detectron2\n",
    "from detectron2.utils.logger import setup_logger\n",
    "setup_logger()\n",
    "from detectron2 import model_zoo\n",
    "from detectron2.engine import DefaultPredictor,DefaultTrainer,HookBase\n",
    "from detectron2.config import get_cfg\n",
    "from detectron2.utils.visualizer import Visualizer,ColorMode,GenericMask\n",
    "from detectron2.structures import BoxMode\n",
    "from detectron2.evaluation import COCOEvaluator,inference_on_dataset\n",
    "from detectron2.data import build_detection_test_loader,DatasetMapper,build_detection_train_loader,MetadataCatalog,DatasetCatalog\n",
    "import detectron2.data.transforms as T\n",
    "import detectron2.utils.comm as comm\n",
    "\n",
    "import ray\n",
    "import time"
   ]
  },
  {
   "cell_type": "code",
   "execution_count": 2,
   "id": "9e07853f",
   "metadata": {},
   "outputs": [],
   "source": [
    "# setup directory\n",
    "root_dir = r'/Users/lovely_shufan/'\n",
    "data_dir = root_dir + r'Dropbox (Edison_Lab@UGA)/Projects/Bioinformatics_modeling/am_fungi_segmentation/data/AM_classify2/test/'\n",
    "output_dir = root_dir + r'Dropbox (Edison_Lab@UGA)/AMF/AMF Imaging 2021/4_writing/Nature Scientific Report/'\n",
    "model_dir = root_dir + r'Dropbox (Edison_Lab@UGA)/AMF/AMF Imaging 2021/2_computer_vision/'"
   ]
  },
  {
   "cell_type": "markdown",
   "id": "87258e03",
   "metadata": {},
   "source": [
    "## Create a detectron2 config and a detectron2 DefaultPredictor to run inference "
   ]
  },
  {
   "cell_type": "code",
   "execution_count": 3,
   "id": "46a948f2",
   "metadata": {},
   "outputs": [],
   "source": [
    "classes=['root','AMF internal hypha','AMF external hypha','AMF arbuscule','AMF vesicle','AMF spore','others']\n"
   ]
  },
  {
   "cell_type": "code",
   "execution_count": 4,
   "id": "9d7fbf74",
   "metadata": {},
   "outputs": [],
   "source": [
    "cfg = get_cfg() # return default configuration\n",
    "cfg.merge_from_file(model_zoo.get_config_file(\"COCO-InstanceSegmentation/mask_rcnn_R_50_FPN_3x.yaml\")) # copy config files from open source projects\n",
    "\n",
    "# training configuration\n",
    "cfg.DATASETS.TEST=()\n",
    "cfg.DATALOADER.NUM_WORKERS=2\n",
    "#cfg.SOLVER.IMS_PER_BATCH=args.batch_size\n",
    "\n",
    "cfg.MODEL.ROI_HEADS.BATCH_SIZE_PER_IMAGE=128 #Number of regions per image used to train RPN. faster, and good enough for this toy dataset (default: 512)\n",
    "cfg.MODEL.ROI_HEADS.NUM_CLASSES=len(classes)# (see https://detectron2.readthedocs.io/tutorials/datasets.html#update-the-config-for-new-datasets)\n",
    "cfg.MODEL.BACKBONE.FREEZE_AT=2\n",
    "cfg.SEED=1\n",
    "cfg.AUG_FLAG=1\n",
    "\n",
    "# inference configuration\n",
    "cfg.MODEL.ROI_HEADS.SCORE_THRESH_TEST = 0.7  # set threshold for this model\n",
    "cfg.MODEL.WEIGHTS=os.path.join(model_dir, \"Trainset1_model_best.pth\") # path to the best model trained\n",
    "cfg.MODEL.DEVICE='cpu' # use cpu for inference\n",
    "\n"
   ]
  },
  {
   "cell_type": "code",
   "execution_count": 5,
   "id": "873feffa",
   "metadata": {},
   "outputs": [],
   "source": [
    "# Define colors for each class in RGB format\n",
    "my_thing_colors = [\n",
    "    (255, 0, 0),       # Red for 'root'\n",
    "    (0, 255, 0),       # Green for 'AMF internal hypha'\n",
    "    (0, 0, 255),       # Blue for 'AMF external hypha'\n",
    "    (255, 255, 0),     # Yellow for 'AMF arbuscule'\n",
    "    (255, 0, 255),     # Magenta for 'AMF vesicle'\n",
    "    (0, 255, 255),     # Cyan for 'AMF spore'\n",
    "    (128, 128, 128)    # Gray for 'others'\n",
    "]\n",
    "\n",
    "\n",
    "my_thing_classes = ['root','AMF internal hypha','AMF external hypha','AMF arbuscule','AMF vesicle','AMF spore','others']\n",
    "\n",
    "inf_metadata = MetadataCatalog.get('inference').set(thing_classes=my_thing_classes, thing_colors=my_thing_colors)\n",
    "\n"
   ]
  },
  {
   "cell_type": "markdown",
   "id": "d1edc3e9",
   "metadata": {},
   "source": [
    "## do inference on an example image"
   ]
  },
  {
   "cell_type": "code",
   "execution_count": 15,
   "id": "9f0d94e6",
   "metadata": {},
   "outputs": [],
   "source": [
    "testfilename = 'Snap-3946-Image Export-847.jpg'"
   ]
  },
  {
   "cell_type": "code",
   "execution_count": 6,
   "id": "9f44bb65",
   "metadata": {},
   "outputs": [],
   "source": [
    "testimg = cv2.imread(os.path.join(data_dir, \n",
    "                                  'Snap-3946-Image Export-847.jpg'),cv2.IMREAD_COLOR)"
   ]
  },
  {
   "cell_type": "code",
   "execution_count": 7,
   "id": "8093b073",
   "metadata": {},
   "outputs": [
    {
     "data": {
      "text/plain": [
       "-1"
      ]
     },
     "execution_count": 7,
     "metadata": {},
     "output_type": "execute_result"
    }
   ],
   "source": [
    "cv2.imshow('',testimg)\n",
    "cv2.waitKey(0)\n",
    "cv2.destroyAllWindows()\n",
    "cv2.waitKey(1)"
   ]
  },
  {
   "cell_type": "code",
   "execution_count": 8,
   "id": "46520bb6",
   "metadata": {},
   "outputs": [
    {
     "name": "stdout",
     "output_type": "stream",
     "text": [
      "\u001b[32m[02/17 14:43:49 d2.checkpoint.detection_checkpoint]: \u001b[0m[DetectionCheckpointer] Loading from /Users/lovely_shufan/Dropbox (Edison_Lab@UGA)/AMF/AMF Imaging 2021/2_computer_vision/Trainset1_model_best.pth ...\n"
     ]
    },
    {
     "name": "stderr",
     "output_type": "stream",
     "text": [
      "The checkpoint state_dict contains keys that are not used by the model:\n",
      "  \u001b[35mpixel_mean\u001b[0m\n",
      "  \u001b[35mpixel_std\u001b[0m\n"
     ]
    }
   ],
   "source": [
    "predictor = DefaultPredictor(cfg)\n",
    "outputs = predictor(testimg)"
   ]
  },
  {
   "cell_type": "code",
   "execution_count": 9,
   "id": "a0026513",
   "metadata": {},
   "outputs": [
    {
     "ename": "NameError",
     "evalue": "name 'v' is not defined",
     "output_type": "error",
     "traceback": [
      "\u001b[0;31m---------------------------------------------------------------------------\u001b[0m",
      "\u001b[0;31mNameError\u001b[0m                                 Traceback (most recent call last)",
      "Cell \u001b[0;32mIn[9], line 1\u001b[0m\n\u001b[0;32m----> 1\u001b[0m \u001b[43mv\u001b[49m\u001b[38;5;241m.\u001b[39mmetadata\u001b[38;5;241m.\u001b[39mget(\u001b[38;5;124m\"\u001b[39m\u001b[38;5;124mthing_colors\u001b[39m\u001b[38;5;124m\"\u001b[39m)\n",
      "\u001b[0;31mNameError\u001b[0m: name 'v' is not defined"
     ]
    }
   ],
   "source": [
    "v.metadata.get(\"thing_colors\")"
   ]
  },
  {
   "cell_type": "code",
   "execution_count": 10,
   "id": "cf312127",
   "metadata": {
    "scrolled": true
   },
   "outputs": [
    {
     "data": {
      "text/plain": [
       "namespace(name='inference',\n",
       "          thing_classes=['root',\n",
       "                         'AMF internal hypha',\n",
       "                         'AMF external hypha',\n",
       "                         'AMF arbuscule',\n",
       "                         'AMF vesicle',\n",
       "                         'AMF spore',\n",
       "                         'others'],\n",
       "          thing_colors=[(255, 0, 0),\n",
       "                        (0, 255, 0),\n",
       "                        (0, 0, 255),\n",
       "                        (255, 255, 0),\n",
       "                        (255, 0, 255),\n",
       "                        (0, 255, 255),\n",
       "                        (128, 128, 128)])"
      ]
     },
     "execution_count": 10,
     "metadata": {},
     "output_type": "execute_result"
    }
   ],
   "source": [
    "MetadataCatalog.get('inference')"
   ]
  },
  {
   "cell_type": "code",
   "execution_count": null,
   "id": "9488ae36",
   "metadata": {},
   "outputs": [],
   "source": [
    "for data in "
   ]
  },
  {
   "cell_type": "code",
   "execution_count": 35,
   "id": "6fa2ede0",
   "metadata": {},
   "outputs": [],
   "source": [
    "class CustomVisualizer(Visualizer):\n",
    "    def _default_font_size(self):\n",
    "        # Increase font size\n",
    "        return super()._default_font_size() * 20"
   ]
  },
  {
   "cell_type": "code",
   "execution_count": 36,
   "id": "1d813135",
   "metadata": {},
   "outputs": [],
   "source": [
    "v = CustomVisualizer(testimg[:, :, ::-1], MetadataCatalog.get(\"inference\"), scale=0.2)\n",
    "v.overlay_instances(masks=outputs[\"instances\"].pred_masks, alpha=0.1)  # Set mask transparency to 90%\n",
    "out = v.draw_instance_predictions(outputs[\"instances\"].to(\"cpu\"))\n",
    "out_img = out.get_image()[:, :, ::-1]  # Convert image back to BGR"
   ]
  },
  {
   "cell_type": "code",
   "execution_count": 13,
   "id": "469abe5b",
   "metadata": {
    "scrolled": true
   },
   "outputs": [
    {
     "data": {
      "text/plain": [
       "-1"
      ]
     },
     "execution_count": 13,
     "metadata": {},
     "output_type": "execute_result"
    }
   ],
   "source": [
    "\n",
    "cv2.imshow('',out_img)\n",
    "cv2.waitKey(0)\n",
    "cv2.destroyAllWindows()\n",
    "cv2.waitKey(1)\n",
    "\n"
   ]
  },
  {
   "cell_type": "code",
   "execution_count": 37,
   "id": "b95af286",
   "metadata": {},
   "outputs": [
    {
     "data": {
      "text/plain": [
       "True"
      ]
     },
     "execution_count": 37,
     "metadata": {},
     "output_type": "execute_result"
    }
   ],
   "source": [
    "cv2.imwrite(os.path.join(output_dir, \"_\".join([testfilename.replace('.jpg', ''),'inf_result0.2-1.png'])), out_img)"
   ]
  },
  {
   "cell_type": "code",
   "execution_count": 47,
   "id": "ed2e509b",
   "metadata": {},
   "outputs": [
    {
     "name": "stdout",
     "output_type": "stream",
     "text": [
      "\u001b[32m[02/17 15:23:24 d2.checkpoint.detection_checkpoint]: \u001b[0m[DetectionCheckpointer] Loading from /Users/lovely_shufan/Dropbox (Edison_Lab@UGA)/AMF/AMF Imaging 2021/2_computer_vision/Trainset1_model_best.pth ...\n"
     ]
    },
    {
     "name": "stderr",
     "output_type": "stream",
     "text": [
      "The checkpoint state_dict contains keys that are not used by the model:\n",
      "  \u001b[35mpixel_mean\u001b[0m\n",
      "  \u001b[35mpixel_std\u001b[0m\n"
     ]
    },
    {
     "data": {
      "text/plain": [
       "True"
      ]
     },
     "execution_count": 47,
     "metadata": {},
     "output_type": "execute_result"
    }
   ],
   "source": [
    "testfilename2 = 'AH2O2(1h)-KOH(Overnight)-AH2O2(1h) (48)-Image Export-285.jpg'\n",
    "testimg2 = cv2.imread(os.path.join(data_dir, testfilename2),cv2.IMREAD_COLOR)\n",
    "predictor = DefaultPredictor(cfg)\n",
    "output = predictor(testimg2)\n",
    "v = CustomVisualizer(testimg2[:, :, ::-1], MetadataCatalog.get(\"inference\"), scale=0.2)\n",
    "out = v.draw_instance_predictions(output[\"instances\"].to(\"cpu\"))\n",
    "out_img = out.get_image()[:, :, ::-1]\n",
    "cv2.imwrite(os.path.join(output_dir, \"_\".join([testfilename2.replace('.jpg', ''),'inf_result-5.png'])), out_img)"
   ]
  },
  {
   "cell_type": "code",
   "execution_count": 52,
   "id": "09705645",
   "metadata": {},
   "outputs": [
    {
     "name": "stdout",
     "output_type": "stream",
     "text": [
      "\u001b[32m[02/17 15:32:04 d2.checkpoint.detection_checkpoint]: \u001b[0m[DetectionCheckpointer] Loading from /Users/lovely_shufan/Dropbox (Edison_Lab@UGA)/AMF/AMF Imaging 2021/2_computer_vision/Trainset1_model_best.pth ...\n"
     ]
    },
    {
     "name": "stderr",
     "output_type": "stream",
     "text": [
      "The checkpoint state_dict contains keys that are not used by the model:\n",
      "  \u001b[35mpixel_mean\u001b[0m\n",
      "  \u001b[35mpixel_std\u001b[0m\n"
     ]
    },
    {
     "data": {
      "text/plain": [
       "True"
      ]
     },
     "execution_count": 52,
     "metadata": {},
     "output_type": "execute_result"
    }
   ],
   "source": [
    "testfilename3 = 'Snap-720.jpg'\n",
    "testimg3 = cv2.imread(os.path.join(data_dir, testfilename3),cv2.IMREAD_COLOR)\n",
    "predictor = DefaultPredictor(cfg)\n",
    "output = predictor(testimg3)\n",
    "v = CustomVisualizer(testimg3[:, :, ::-1], MetadataCatalog.get(\"inference\"), scale=0.2)\n",
    "out = v.draw_instance_predictions(output[\"instances\"].to(\"cpu\"))\n",
    "out_img = out.get_image()[:, :, ::-1]\n",
    "cv2.imwrite(os.path.join(output_dir, \"_\".join([testfilename3.replace('.jpg', ''),'inf_result-1.png'])), out_img)"
   ]
  },
  {
   "cell_type": "code",
   "execution_count": 53,
   "id": "acc3bfd1",
   "metadata": {
    "scrolled": true
   },
   "outputs": [
    {
     "name": "stdout",
     "output_type": "stream",
     "text": [
      "\u001b[32m[02/17 15:34:50 d2.checkpoint.detection_checkpoint]: \u001b[0m[DetectionCheckpointer] Loading from /Users/lovely_shufan/Dropbox (Edison_Lab@UGA)/AMF/AMF Imaging 2021/2_computer_vision/Trainset1_model_best.pth ...\n"
     ]
    },
    {
     "name": "stderr",
     "output_type": "stream",
     "text": [
      "The checkpoint state_dict contains keys that are not used by the model:\n",
      "  \u001b[35mpixel_mean\u001b[0m\n",
      "  \u001b[35mpixel_std\u001b[0m\n"
     ]
    },
    {
     "data": {
      "text/plain": [
       "True"
      ]
     },
     "execution_count": 53,
     "metadata": {},
     "output_type": "execute_result"
    }
   ],
   "source": [
    "testfilename4 = 'Snap-1886-Image Export-234.jpg'\n",
    "testimg4 = cv2.imread(os.path.join(data_dir, testfilename4),cv2.IMREAD_COLOR)\n",
    "predictor = DefaultPredictor(cfg)\n",
    "output = predictor(testimg4)\n",
    "v = CustomVisualizer(testimg4[:, :, ::-1], MetadataCatalog.get(\"inference\"), scale=0.2)\n",
    "out = v.draw_instance_predictions(output[\"instances\"].to(\"cpu\"))\n",
    "out_img = out.get_image()[:, :, ::-1]\n",
    "cv2.imwrite(os.path.join(output_dir, \"_\".join([testfilename4.replace('.jpg', ''),'inf_result.png'])), out_img)\n"
   ]
  },
  {
   "cell_type": "code",
   "execution_count": null,
   "id": "71a05c0c",
   "metadata": {},
   "outputs": [],
   "source": []
  },
  {
   "cell_type": "code",
   "execution_count": 54,
   "id": "048f47c8",
   "metadata": {},
   "outputs": [
    {
     "name": "stdout",
     "output_type": "stream",
     "text": [
      "\u001b[32m[02/17 15:38:05 d2.checkpoint.detection_checkpoint]: \u001b[0m[DetectionCheckpointer] Loading from /Users/lovely_shufan/Dropbox (Edison_Lab@UGA)/AMF/AMF Imaging 2021/2_computer_vision/Trainset1_model_best.pth ...\n"
     ]
    },
    {
     "name": "stderr",
     "output_type": "stream",
     "text": [
      "The checkpoint state_dict contains keys that are not used by the model:\n",
      "  \u001b[35mpixel_mean\u001b[0m\n",
      "  \u001b[35mpixel_std\u001b[0m\n"
     ]
    },
    {
     "data": {
      "text/plain": [
       "True"
      ]
     },
     "execution_count": 54,
     "metadata": {},
     "output_type": "execute_result"
    }
   ],
   "source": [
    "testfilename5 = 'Snap-5510-Image Export-260.jpg'\n",
    "testimg5 = cv2.imread(os.path.join(data_dir, testfilename5),cv2.IMREAD_COLOR)\n",
    "predictor = DefaultPredictor(cfg)\n",
    "output = predictor(testimg5)\n",
    "v = CustomVisualizer(testimg5[:, :, ::-1], MetadataCatalog.get(\"inference\"), scale=0.2)\n",
    "out = v.draw_instance_predictions(output[\"instances\"].to(\"cpu\"))\n",
    "out_img = out.get_image()[:, :, ::-1]\n",
    "cv2.imwrite(os.path.join(output_dir, \"_\".join([testfilename5.replace('.jpg', ''),'inf_result.png'])), out_img)\n"
   ]
  },
  {
   "cell_type": "code",
   "execution_count": 55,
   "id": "13865a56",
   "metadata": {},
   "outputs": [
    {
     "name": "stdout",
     "output_type": "stream",
     "text": [
      "\u001b[32m[02/17 15:40:27 d2.checkpoint.detection_checkpoint]: \u001b[0m[DetectionCheckpointer] Loading from /Users/lovely_shufan/Dropbox (Edison_Lab@UGA)/AMF/AMF Imaging 2021/2_computer_vision/Trainset1_model_best.pth ...\n"
     ]
    },
    {
     "name": "stderr",
     "output_type": "stream",
     "text": [
      "The checkpoint state_dict contains keys that are not used by the model:\n",
      "  \u001b[35mpixel_mean\u001b[0m\n",
      "  \u001b[35mpixel_std\u001b[0m\n"
     ]
    },
    {
     "data": {
      "text/plain": [
       "True"
      ]
     },
     "execution_count": 55,
     "metadata": {},
     "output_type": "execute_result"
    }
   ],
   "source": [
    "testfilename6 = 'Snap-6212-Image Export-04.jpg'\n",
    "testimg6 = cv2.imread(os.path.join(data_dir, testfilename6),cv2.IMREAD_COLOR)\n",
    "predictor = DefaultPredictor(cfg)\n",
    "output = predictor(testimg6)\n",
    "v = CustomVisualizer(testimg6[:, :, ::-1], MetadataCatalog.get(\"inference\"), scale=0.2)\n",
    "out = v.draw_instance_predictions(output[\"instances\"].to(\"cpu\"))\n",
    "out_img = out.get_image()[:, :, ::-1]\n",
    "cv2.imwrite(os.path.join(output_dir, \"_\".join([testfilename6.replace('.jpg', ''),'inf_result.png'])), out_img)\n"
   ]
  },
  {
   "cell_type": "code",
   "execution_count": 59,
   "id": "2d046bf9",
   "metadata": {},
   "outputs": [
    {
     "name": "stdout",
     "output_type": "stream",
     "text": [
      "\u001b[32m[02/17 15:43:03 d2.checkpoint.detection_checkpoint]: \u001b[0m[DetectionCheckpointer] Loading from /Users/lovely_shufan/Dropbox (Edison_Lab@UGA)/AMF/AMF Imaging 2021/2_computer_vision/Trainset1_model_best.pth ...\n"
     ]
    },
    {
     "name": "stderr",
     "output_type": "stream",
     "text": [
      "The checkpoint state_dict contains keys that are not used by the model:\n",
      "  \u001b[35mpixel_mean\u001b[0m\n",
      "  \u001b[35mpixel_std\u001b[0m\n"
     ]
    },
    {
     "data": {
      "text/plain": [
       "True"
      ]
     },
     "execution_count": 59,
     "metadata": {},
     "output_type": "execute_result"
    }
   ],
   "source": [
    "testfilename7 = 'Snap-6425-Image Export-217.jpg'\n",
    "testimg7 = cv2.imread(os.path.join(data_dir, testfilename7),cv2.IMREAD_COLOR)\n",
    "predictor = DefaultPredictor(cfg)\n",
    "output = predictor(testimg7)\n",
    "v = CustomVisualizer(testimg7[:, :, ::-1], MetadataCatalog.get(\"inference\"), scale=0.2)\n",
    "out = v.draw_instance_predictions(output[\"instances\"].to(\"cpu\"))\n",
    "out_img = out.get_image()[:, :, ::-1]\n",
    "cv2.imwrite(os.path.join(output_dir, \"_\".join([testfilename7.replace('.jpg', ''),'inf_result-2.png'])), out_img)\n"
   ]
  },
  {
   "cell_type": "code",
   "execution_count": null,
   "id": "c258954e",
   "metadata": {},
   "outputs": [],
   "source": []
  },
  {
   "cell_type": "code",
   "execution_count": 65,
   "id": "1d6da557",
   "metadata": {},
   "outputs": [
    {
     "name": "stdout",
     "output_type": "stream",
     "text": [
      "\u001b[32m[02/17 15:47:31 d2.checkpoint.detection_checkpoint]: \u001b[0m[DetectionCheckpointer] Loading from /Users/lovely_shufan/Dropbox (Edison_Lab@UGA)/AMF/AMF Imaging 2021/2_computer_vision/Trainset1_model_best.pth ...\n"
     ]
    },
    {
     "name": "stderr",
     "output_type": "stream",
     "text": [
      "The checkpoint state_dict contains keys that are not used by the model:\n",
      "  \u001b[35mpixel_mean\u001b[0m\n",
      "  \u001b[35mpixel_std\u001b[0m\n"
     ]
    },
    {
     "data": {
      "text/plain": [
       "True"
      ]
     },
     "execution_count": 65,
     "metadata": {},
     "output_type": "execute_result"
    }
   ],
   "source": [
    "testfilename8 = 'Snap-3642-Image Export-595.jpg'\n",
    "testimg8 = cv2.imread(os.path.join(data_dir, testfilename8),cv2.IMREAD_COLOR)\n",
    "predictor = DefaultPredictor(cfg)\n",
    "output = predictor(testimg8)\n",
    "v = CustomVisualizer(testimg8[:, :, ::-1], MetadataCatalog.get(\"inference\"), scale=0.2)\n",
    "out = v.draw_instance_predictions(output[\"instances\"].to(\"cpu\"))\n",
    "out_img = out.get_image()[:, :, ::-1]\n",
    "cv2.imwrite(os.path.join(output_dir, \"_\".join([testfilename8.replace('.jpg', ''),'inf_result-5.png'])), out_img)\n"
   ]
  },
  {
   "cell_type": "markdown",
   "id": "b0f215f0",
   "metadata": {},
   "source": [
    "## Visualize groundtruth"
   ]
  },
  {
   "cell_type": "code",
   "execution_count": 91,
   "id": "14ff83ce",
   "metadata": {},
   "outputs": [],
   "source": [
    "def get_amseg_dicts(img_dir,classes):\n",
    "    testfilenames = ['Snap-720.jpg','Snap-1886-Image Export-234.jpg','Snap-5510-Image Export-260.jpg','Snap-6425-Image Export-217.jpg']\n",
    "    anno_file=os.path.join(img_dir,\"regiondata.csv\")\n",
    "    annotab=pd.read_csv(anno_file,delimiter=\"\\t\")\n",
    "    files=annotab['filename'].unique()\n",
    "    dataset_dicts=[]\n",
    "    for idx,file in enumerate(files):\n",
    "        if file in testfilenames:\n",
    "            record={}\n",
    "            filename=os.path.join(img_dir,file)\n",
    "            height,width=cv2.imread(filename).shape[:2]\n",
    "            record[\"file_name\"]=filename\n",
    "            record[\"image_id\"]=idx\n",
    "            record[\"height\"]=height\n",
    "            record[\"width\"]=width\n",
    "            subtab=annotab[annotab['filename']==file]\n",
    "            objs=[]\n",
    "            for anno_i in range(subtab.shape[0]):#multiple masks/boxes\n",
    "                tab_rec=subtab.iloc[anno_i]\n",
    "                # assert not tab_rec[\"region_attributes\"]#check it is []\n",
    "                anno=json.loads(tab_rec[\"region_shape_attributes\"])\n",
    "                if len(anno)==0:\n",
    "                    continue\n",
    "\n",
    "                px=anno[\"all_points_x\"]\n",
    "                py=anno[\"all_points_y\"]\n",
    "                poly=[(x+0.5,y+0.5) for x,y in zip(px,py)]\n",
    "                poly=[p for x in poly for p in x]\n",
    "                category_id=np.where([ele==tab_rec['region_attributes'] for ele in classes])[0][0]\n",
    "                obj={\n",
    "                    \"bbox\":[np.min(px),np.min(py),np.max(px),np.max(py)],\n",
    "                    \"bbox_mode\":BoxMode.XYXY_ABS,\n",
    "                    \"segmentation\":[poly],\n",
    "                    \"category_id\":category_id,\n",
    "                }\n",
    "                objs.append(obj)\n",
    "\n",
    "            record[\"annotations\"]=objs\n",
    "            dataset_dicts.append(record)\n",
    "    \n",
    "    return dataset_dicts"
   ]
  },
  {
   "cell_type": "code",
   "execution_count": 66,
   "id": "c264204f",
   "metadata": {},
   "outputs": [],
   "source": [
    "testfilenames = ['Snap-720.jpg','Snap-1886-Image Export-234.jpg','Snap-5510-Image Export-260.jpg','Snap-6425-Image Export-217.jpg']"
   ]
  },
  {
   "cell_type": "code",
   "execution_count": 76,
   "id": "2a89fd0d",
   "metadata": {},
   "outputs": [],
   "source": [
    "testfilepaths = []\n",
    "for i in testfilenames:\n",
    "    testfilepaths.append(data_dir+i)"
   ]
  },
  {
   "cell_type": "code",
   "execution_count": 68,
   "id": "5abb0b8f",
   "metadata": {},
   "outputs": [],
   "source": [
    "classes=['root','AMF internal hypha','AMF external hypha','AMF arbuscule','AMF vesicle','AMF spore','others']"
   ]
  },
  {
   "cell_type": "code",
   "execution_count": 92,
   "id": "6e32d337",
   "metadata": {},
   "outputs": [],
   "source": [
    "dataset_dicts=get_amseg_dicts(data_dir,classes)"
   ]
  },
  {
   "cell_type": "code",
   "execution_count": 93,
   "id": "9a6fb2e7",
   "metadata": {
    "scrolled": true
   },
   "outputs": [
    {
     "data": {
      "text/plain": [
       "4"
      ]
     },
     "execution_count": 93,
     "metadata": {},
     "output_type": "execute_result"
    }
   ],
   "source": [
    "len(dataset_dicts)"
   ]
  },
  {
   "cell_type": "code",
   "execution_count": 96,
   "id": "1d034143",
   "metadata": {},
   "outputs": [],
   "source": [
    "for d in dataset_dicts:\n",
    "    im = cv2.imread(d[\"file_name\"])\n",
    "    outputs = predictor(im)  # format is documented at https://detectron2.readthedocs.io/tutorials/models.html#model-output-format\n",
    "    v = CustomVisualizer(im[:, :, ::-1], \n",
    "                         MetadataCatalog.get(\"inference\"), \n",
    "                         scale=0.2, \n",
    "                         instance_mode=ColorMode.IMAGE_BW)    \n",
    "    out=v.draw_dataset_dict(d)\n",
    "    cv2.imwrite(d[\"file_name\"].replace('.jpg', '')+'_groundtruth.png',out.get_image()[:, :, ::-1])\n",
    "    \n",
    "    \n",
    "    "
   ]
  },
  {
   "cell_type": "code",
   "execution_count": null,
   "id": "584451e0",
   "metadata": {},
   "outputs": [],
   "source": []
  },
  {
   "cell_type": "code",
   "execution_count": null,
   "id": "2f9d5050",
   "metadata": {},
   "outputs": [],
   "source": []
  }
 ],
 "metadata": {
  "kernelspec": {
   "display_name": "Python [conda env:detectron2-py38]",
   "language": "python",
   "name": "conda-env-detectron2-py38-py"
  },
  "language_info": {
   "codemirror_mode": {
    "name": "ipython",
    "version": 3
   },
   "file_extension": ".py",
   "mimetype": "text/x-python",
   "name": "python",
   "nbconvert_exporter": "python",
   "pygments_lexer": "ipython3",
   "version": "3.8.18"
  }
 },
 "nbformat": 4,
 "nbformat_minor": 5
}
