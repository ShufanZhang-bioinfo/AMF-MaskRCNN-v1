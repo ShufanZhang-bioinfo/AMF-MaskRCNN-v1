{
 "cells": [
  {
   "cell_type": "code",
   "execution_count": null,
   "id": "fa8c2086",
   "metadata": {},
   "outputs": [],
   "source": []
  }
 ],
 "metadata": {
  "kernelspec": {
   "display_name": "Python [conda env:py38_czi_sklearn]",
   "language": "python",
   "name": "conda-env-py38_czi_sklearn-py"
  },
  "language_info": {
   "codemirror_mode": {
    "name": "ipython",
    "version": 3
   },
   "file_extension": ".py",
   "mimetype": "text/x-python",
   "name": "python",
   "nbconvert_exporter": "python",
   "pygments_lexer": "ipython3",
   "version": "3.8.17"
  }
 },
 "nbformat": 4,
 "nbformat_minor": 5
}
