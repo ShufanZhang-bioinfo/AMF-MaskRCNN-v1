{
 "cells": [
  {
   "cell_type": "code",
   "execution_count": 17,
   "id": "ca94c20c",
   "metadata": {},
   "outputs": [
    {
     "name": "stderr",
     "output_type": "stream",
     "text": [
      "/Users/lovely_shufan/opt/anaconda3/envs/czi/lib/python3.11/site-packages/pydantic/_migration.py:276: UserWarning: `pydantic.error_wrappers:ValidationError` has been moved to `pydantic:ValidationError`.\n",
      "  warnings.warn(f'`{import_path}` has been moved to `{new_location}`.')\n"
     ]
    }
   ],
   "source": [
    "import numpy as np\n",
    "from aicsimageio import AICSImage \n",
    "from aicspylibczi import CziFile\n",
    "from pathlib import Path\n",
    "import matplotlib.pyplot as plt\n"
   ]
  },
  {
   "cell_type": "code",
   "execution_count": 2,
   "id": "7cad2235",
   "metadata": {},
   "outputs": [],
   "source": [
    "pth = Path('E24W-1_C5_09-1.czi')\n",
    "czi = CziFile(pth)\n",
    "\n"
   ]
  },
  {
   "cell_type": "code",
   "execution_count": 16,
   "id": "d1e73b48",
   "metadata": {},
   "outputs": [
    {
     "name": "stdout",
     "output_type": "stream",
     "text": [
      "[{'A': (0, 3), 'X': (0, 2056), 'Y': (0, 2464), 'C': (0, 1), 'M': (0, 14), 'S': (0, 1)}, {'A': (0, 3), 'X': (0, 2056), 'Y': (0, 2464), 'C': (0, 1), 'M': (0, 15), 'S': (1, 2)}, {'A': (0, 3), 'X': (0, 2056), 'Y': (0, 2464), 'C': (0, 1), 'M': (0, 25), 'S': (2, 3)}, {'A': (0, 3), 'X': (0, 2056), 'Y': (0, 2464), 'C': (0, 1), 'M': (0, 23), 'S': (3, 4)}, {'A': (0, 3), 'X': (0, 2056), 'Y': (0, 2464), 'C': (0, 1), 'M': (0, 16), 'S': (4, 5)}, {'A': (0, 3), 'X': (0, 2056), 'Y': (0, 2464), 'C': (0, 1), 'M': (0, 19), 'S': (5, 6)}, {'A': (0, 3), 'X': (0, 2056), 'Y': (0, 2464), 'C': (0, 1), 'M': (0, 19), 'S': (6, 7)}, {'A': (0, 3), 'X': (0, 2056), 'Y': (0, 2464), 'C': (0, 1), 'M': (0, 20), 'S': (7, 8)}, {'A': (0, 3), 'X': (0, 2056), 'Y': (0, 2464), 'C': (0, 1), 'M': (0, 17), 'S': (8, 9)}, {'A': (0, 3), 'X': (0, 2056), 'Y': (0, 2464), 'C': (0, 1), 'M': (0, 26), 'S': (9, 10)}, {'A': (0, 3), 'X': (0, 2056), 'Y': (0, 2464), 'C': (0, 1), 'M': (0, 24), 'S': (10, 11)}, {'A': (0, 3), 'X': (0, 2056), 'Y': (0, 2464), 'C': (0, 1), 'M': (0, 24), 'S': (11, 12)}, {'A': (0, 3), 'X': (0, 2056), 'Y': (0, 2464), 'C': (0, 1), 'M': (0, 13), 'S': (12, 13)}, {'A': (0, 3), 'X': (0, 2056), 'Y': (0, 2464), 'C': (0, 1), 'M': (0, 18), 'S': (13, 14)}, {'A': (0, 3), 'X': (0, 2056), 'Y': (0, 2464), 'C': (0, 1), 'M': (0, 20), 'S': (14, 15)}, {'A': (0, 3), 'X': (0, 2056), 'Y': (0, 2464), 'C': (0, 1), 'M': (0, 25), 'S': (15, 16)}, {'A': (0, 3), 'X': (0, 2056), 'Y': (0, 2464), 'C': (0, 1), 'M': (0, 26), 'S': (16, 17)}, {'A': (0, 3), 'X': (0, 2056), 'Y': (0, 2464), 'C': (0, 1), 'M': (0, 16), 'S': (17, 18)}, {'A': (0, 3), 'X': (0, 2056), 'Y': (0, 2464), 'C': (0, 1), 'M': (0, 22), 'S': (18, 19)}, {'A': (0, 3), 'X': (0, 2056), 'Y': (0, 2464), 'C': (0, 1), 'M': (0, 23), 'S': (19, 20)}, {'A': (0, 3), 'X': (0, 2056), 'Y': (0, 2464), 'C': (0, 1), 'M': (0, 23), 'S': (20, 21)}, {'A': (0, 3), 'X': (0, 2056), 'Y': (0, 2464), 'C': (0, 1), 'M': (0, 23), 'S': (21, 22)}, {'A': (0, 3), 'X': (0, 2056), 'Y': (0, 2464), 'C': (0, 1), 'M': (0, 22), 'S': (22, 23)}, {'A': (0, 3), 'X': (0, 2056), 'Y': (0, 2464), 'C': (0, 1), 'M': (0, 19), 'S': (23, 24)}, {'A': (0, 3), 'X': (0, 2056), 'Y': (0, 2464), 'C': (0, 1), 'M': (0, 17), 'S': (24, 25)}, {'A': (0, 3), 'X': (0, 2056), 'Y': (0, 2464), 'C': (0, 1), 'M': (0, 28), 'S': (25, 26)}, {'A': (0, 3), 'X': (0, 2056), 'Y': (0, 2464), 'C': (0, 1), 'M': (0, 17), 'S': (26, 27)}, {'A': (0, 3), 'X': (0, 2056), 'Y': (0, 2464), 'C': (0, 1), 'M': (0, 15), 'S': (27, 28)}]\n",
      "SCMYXA\n",
      "(-1, -1, -1, -1, -1, -1)\n",
      "<class 'tuple'>\n",
      "True\n"
     ]
    }
   ],
   "source": [
    "# Get the shape of the data, the coordinate pairs are (start index, size)\n",
    "dimensions = czi.get_dims_shape()  # [{'X': (0, 1900), 'Y': (0, 1300), 'Z': (0, 60), 'C': (0, 4), 'S': (0, 40), 'B': (0, 1)}]\n",
    "print(dimensions)\n",
    "print(czi.dims)\n",
    "print(czi.size)\n",
    "\n",
    "# Load the image slice I want from the file\n",
    "img = czi.read_image(S=1)\n",
    "print(type(img))\n",
    "\n",
    "print(czi.is_mosaic())"
   ]
  }
 ],
 "metadata": {
  "kernelspec": {
   "display_name": "Python [conda env:czi]",
   "language": "python",
   "name": "conda-env-czi-py"
  },
  "language_info": {
   "codemirror_mode": {
    "name": "ipython",
    "version": 3
   },
   "file_extension": ".py",
   "mimetype": "text/x-python",
   "name": "python",
   "nbconvert_exporter": "python",
   "pygments_lexer": "ipython3",
   "version": "3.11.4"
  }
 },
 "nbformat": 4,
 "nbformat_minor": 5
}
