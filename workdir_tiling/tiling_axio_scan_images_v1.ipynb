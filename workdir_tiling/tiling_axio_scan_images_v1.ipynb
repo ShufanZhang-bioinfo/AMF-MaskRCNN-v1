{
 "cells": [
  {
   "cell_type": "code",
   "execution_count": 2,
   "id": "2597aba0",
   "metadata": {},
   "outputs": [],
   "source": [
    "#!/usr/bin/env python\n",
    "import pandas as pd\n",
    "import numpy as np\n",
    "import matplotlib.pyplot as plt\n",
    "import os\n",
    "import sys\n",
    "import json\n",
    "import uuid as uuid\n",
    "import cv2\n",
    "import re\n",
    "import shutil\n",
    "from operator import itemgetter\n",
    "import math\n",
    "import random\n",
    "import seaborn as sns\n",
    "\n",
    "import shapely\n",
    "import shapely.geometry\n",
    "from shapely.geometry import Polygon,MultiPolygon,GeometryCollection\n",
    "from shapely.validation import make_valid\n",
    "from shapely.geometry import mapping\n",
    "import geopandas as gpd\n"
   ]
  },
  {
   "cell_type": "code",
   "execution_count": 4,
   "id": "9254c432",
   "metadata": {},
   "outputs": [],
   "source": [
    "# main code BLOCK 1\n",
    "## listing directory structure\n",
    "projdir='/Users/lovely_shufan/Documents/image_analysis/czi_to_jpg/'   #working directory\n",
    "img_dir=projdir+'axio_scan_raw_images/' #input: image directory\n",
    "output_dir=projdir+'ouput/'           #output: tiled image directory\n",
    "preproc_dir=projdir+'preprocess/'      #intermediate: \n",
    "data_sep_dir=projdir+'datasep/'        #intermediate:\n",
    "qc_dir=projdir+'qc/'                   #intermediate: quality check\n",
    "\n",
    "## making directories \n",
    "os.makedirs(output_dir,exist_ok=True)\n",
    "os.makedirs(preproc_dir,exist_ok=True)\n",
    "os.makedirs(data_sep_dir,exist_ok=True)\n",
    "os.makedirs(qc_dir,exist_ok=True)"
   ]
  },
  {
   "cell_type": "code",
   "execution_count": 13,
   "id": "f35a6082",
   "metadata": {},
   "outputs": [],
   "source": [
    "def readImage(img_dir,filename):\n",
    "    '''\n",
    "    :param img_dir:\n",
    "    :param filename:\n",
    "    :return image:\n",
    "    '''\n",
    "    img_file=os.path.join(img_dir,filename)\n",
    "    img=cv2.imread(img_file)\n",
    "    height = img.shape[0]\n",
    "    width = img.shape[1]\n",
    "    # pad image to optimal input image dimension of [1024, 1024]\n",
    "    # padding to the left and the bottom of the image as it was mostly empty\n",
    "    pad_bot = height % 512 \n",
    "    pad_lft = width % 512\n",
    "    # pad the image\n",
    "    img = cv2.copyMakeBorder(img,0,pad_bot,pad_lft,0,cv2.BORDER_CONSTANT,value=[0,0,0])\n",
    "    return img"
   ]
  },
  {
   "cell_type": "code",
   "execution_count": 14,
   "id": "922fbb95",
   "metadata": {},
   "outputs": [],
   "source": [
    "def tileImage(img):\n",
    "    '''\n",
    "    :param img:\n",
    "    :return list of coordinates:\n",
    "    :rtype list:\n",
    "    Objective: output a list of coordinates for the bounding boxes of the tiles\n",
    "    '''\n",
    "    tiles = [] # an empty list \n",
    "    for i in range(0,img.shape[0],1024):\n",
    "        for j in range(0,img.shape[1],1024):\n",
    "            #print(i, \" \", j)\n",
    "            #tile = [[j, i],[j, i+1024], [j+1024, i], [j+1024, i+1024]]\n",
    "            xmin = j\n",
    "            xmax = j + 1024\n",
    "            ymin = i\n",
    "            ymax = i + 1024\n",
    "            tiles.append([xmin,ymin,xmax,ymax])\n",
    "    #print(tiles)\n",
    "    return tiles"
   ]
  },
  {
   "cell_type": "code",
   "execution_count": 8,
   "id": "8156f815",
   "metadata": {
    "scrolled": true
   },
   "outputs": [
    {
     "ename": "NameError",
     "evalue": "name 'stained_image' is not defined",
     "output_type": "error",
     "traceback": [
      "\u001b[0;31m---------------------------------------------------------------------------\u001b[0m",
      "\u001b[0;31mNameError\u001b[0m                                 Traceback (most recent call last)",
      "Cell \u001b[0;32mIn[8], line 5\u001b[0m\n\u001b[1;32m      3\u001b[0m dataset_dicts\u001b[38;5;241m=\u001b[39m[] \u001b[38;5;66;03m# a list of records (list of dictionaries named record)\u001b[39;00m\n\u001b[1;32m      4\u001b[0m \u001b[38;5;28;01mfor\u001b[39;00m indi,original_image \u001b[38;5;129;01min\u001b[39;00m \u001b[38;5;28menumerate\u001b[39m(files): \u001b[38;5;66;03m#iterate over each image\u001b[39;00m\n\u001b[0;32m----> 5\u001b[0m     \u001b[38;5;28mprint\u001b[39m(\u001b[43mstained_image\u001b[49m)\n\u001b[1;32m      6\u001b[0m     img \u001b[38;5;241m=\u001b[39m readImage(img_dir,stained_image)\n\u001b[1;32m      7\u001b[0m     tiles \u001b[38;5;241m=\u001b[39m tileImage(img)\n",
      "\u001b[0;31mNameError\u001b[0m: name 'stained_image' is not defined"
     ]
    }
   ],
   "source": [
    "# main code BLOCK 2 \n",
    "## tiling\n",
    "dataset_dicts=[] # a list of records (list of dictionaries named record)\n",
    "for indi,original_image in enumerate(files): #iterate over each image\n",
    "    print(original_image)\n",
    "    img = readImage(img_dir,original_image)\n",
    "    tiles = tileImage(img)\n",
    "    records = IntersectSegmentations(img_dir,output_dir,tiles,img,annotab,original_image)\n",
    "    dataset_dicts.extend(records) "
   ]
  }
 ],
 "metadata": {
  "kernelspec": {
   "display_name": "Python [conda env:shapely]",
   "language": "python",
   "name": "conda-env-shapely-py"
  },
  "language_info": {
   "codemirror_mode": {
    "name": "ipython",
    "version": 3
   },
   "file_extension": ".py",
   "mimetype": "text/x-python",
   "name": "python",
   "nbconvert_exporter": "python",
   "pygments_lexer": "ipython3",
   "version": "3.11.4"
  }
 },
 "nbformat": 4,
 "nbformat_minor": 5
}
