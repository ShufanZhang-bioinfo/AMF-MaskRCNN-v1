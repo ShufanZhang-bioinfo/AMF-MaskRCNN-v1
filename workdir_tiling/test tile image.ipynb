{
 "cells": [
  {
   "cell_type": "code",
   "execution_count": 20,
   "id": "5ef2df3d",
   "metadata": {},
   "outputs": [],
   "source": [
    "import pandas as pd\n",
    "import numpy as np\n",
    "import matplotlib.pyplot as plt\n",
    "import os #operation system interface\n",
    "import sys\n",
    "import json\n",
    "import uuid as uuid #universally unique identifiers (UUIDs)\n",
    "import cv2\n",
    "import re\n",
    "import shutil\n",
    "from operator import itemgetter\n",
    "import math\n",
    "import random\n",
    "\n",
    "import shapely\n",
    "import shapely.geometry\n",
    "from shapely.geometry import Polygon,MultiPolygon\n",
    "from shapely.validation import make_valid"
   ]
  },
  {
   "cell_type": "code",
   "execution_count": 21,
   "id": "92cba4d6",
   "metadata": {},
   "outputs": [],
   "source": [
    "# read in image file \n",
    "img=cv2.imread(\"/Users/lovely_shufan/Documents/REU_2023_Arline/raw_data/AMFinderImages/CNN2_Keyence_Nbenth_myc_8.jpg\")\n",
    "#cv2.imshow(\"img\", img)\n",
    "#cv2.waitKey(0)\n",
    "#cv2.destroyAllWindows()\n",
    "#cv2.waitKey(1)\n",
    "\n",
    "#img2=cv2.imread(\"/Users/lovely_shufan/Documents/REU_2023_Arline/AMFinderImages/CNN2_Keyence_Nbenth_myc_9.jpg\")\n"
   ]
  },
  {
   "cell_type": "code",
   "execution_count": 22,
   "id": "13d58561",
   "metadata": {},
   "outputs": [
    {
     "name": "stdout",
     "output_type": "stream",
     "text": [
      "3204 9560\n",
      "4 229\n"
     ]
    }
   ],
   "source": [
    "# measure image dimensions\n",
    "height = img.shape[0]\n",
    "width = img.shape[1]\n",
    "\n",
    "print(height, width)\n",
    "#print(img2.shape[0],img2.shape[1])\n",
    "\n",
    "# padd image to optimal input image dimension of 800 1333\n",
    "    # padding to the left and the bottom of the image as it was mostly empty\n",
    "pad_bot = height % 800 \n",
    "pad_lft = width % 1333\n",
    "\n",
    "print(pad_bot, pad_lft)"
   ]
  },
  {
   "cell_type": "code",
   "execution_count": 23,
   "id": "13ab2669",
   "metadata": {},
   "outputs": [],
   "source": [
    "# padding image \n",
    "img_pad = cv2.copyMakeBorder(img,0,pad_bot,pad_lft,0,cv2.BORDER_CONSTANT,value=[0,0,100])\n",
    "#cv2.imshow(\"img\", img)\n",
    "#cv2.imshow(\"img_padded\",img_pad)\n",
    "#cv2.waitKey(0)\n",
    "#cv2.destroyAllWindows()\n",
    "#cv2.waitKey(1)"
   ]
  },
  {
   "cell_type": "code",
   "execution_count": 24,
   "id": "5c287a1f",
   "metadata": {},
   "outputs": [
    {
     "name": "stdout",
     "output_type": "stream",
     "text": [
      "[[0, 1, 2, 3]]\n",
      "[[0, 1, 2, 3], [5, 6, 7, 8]]\n"
     ]
    }
   ],
   "source": [
    "tiles = []\n",
    "tiles.append([0,1,2,3])\n",
    "print(tiles)\n",
    "tiles.append([5,6,7,8])\n",
    "print(tiles)"
   ]
  },
  {
   "cell_type": "code",
   "execution_count": 65,
   "id": "8e3768be",
   "metadata": {},
   "outputs": [
    {
     "name": "stdout",
     "output_type": "stream",
     "text": [
      "[[0, 0, 1333, 800], [1333, 0, 2666, 800], [2666, 0, 3999, 800], [3999, 0, 5332, 800], [5332, 0, 6665, 800], [6665, 0, 7998, 800], [7998, 0, 9331, 800], [9331, 0, 10664, 800], [0, 800, 1333, 1600], [1333, 800, 2666, 1600], [2666, 800, 3999, 1600], [3999, 800, 5332, 1600], [5332, 800, 6665, 1600], [6665, 800, 7998, 1600], [7998, 800, 9331, 1600], [9331, 800, 10664, 1600], [0, 1600, 1333, 2400], [1333, 1600, 2666, 2400], [2666, 1600, 3999, 2400], [3999, 1600, 5332, 2400], [5332, 1600, 6665, 2400], [6665, 1600, 7998, 2400], [7998, 1600, 9331, 2400], [9331, 1600, 10664, 2400], [0, 2400, 1333, 3200], [1333, 2400, 2666, 3200], [2666, 2400, 3999, 3200], [3999, 2400, 5332, 3200], [5332, 2400, 6665, 3200], [6665, 2400, 7998, 3200], [7998, 2400, 9331, 3200], [9331, 2400, 10664, 3200], [0, 3200, 1333, 4000], [1333, 3200, 2666, 4000], [2666, 3200, 3999, 4000], [3999, 3200, 5332, 4000], [5332, 3200, 6665, 4000], [6665, 3200, 7998, 4000], [7998, 3200, 9331, 4000], [9331, 3200, 10664, 4000]]\n"
     ]
    }
   ],
   "source": [
    "# FUNCTION tileImage(img)\n",
    "#    '''\n",
    "#    :param img:\n",
    "#    :return list of coordinates:\n",
    "#    :rtype list:\n",
    "#    Objective: output a list of bouding coordinates of the tiles   '''\n",
    "\n",
    "tiles = [] # an empty list \n",
    "for i in range(0,img_pad.shape[0],800):\n",
    "    for j in range(0,img_pad.shape[1],1333):\n",
    "        #print(i, \" \", j)\n",
    "        xmin = j\n",
    "        xmax = j + 1333\n",
    "        ymin = i\n",
    "        ymax =i + 800\n",
    "        tiles.append([xmin,ymin,xmax,ymax])\n",
    "print(tiles)"
   ]
  },
  {
   "cell_type": "code",
   "execution_count": 26,
   "id": "3f588073",
   "metadata": {
    "scrolled": true
   },
   "outputs": [
    {
     "name": "stdout",
     "output_type": "stream",
     "text": [
      "0 [0, 0, 1333, 800]\n",
      "1 [1333, 0, 2666, 800]\n",
      "2 [2666, 0, 3999, 800]\n",
      "3 [3999, 0, 5332, 800]\n",
      "4 [5332, 0, 6665, 800]\n",
      "5 [6665, 0, 7998, 800]\n",
      "6 [7998, 0, 9331, 800]\n",
      "7 [9331, 0, 10664, 800]\n",
      "8 [0, 800, 1333, 1600]\n",
      "9 [1333, 800, 2666, 1600]\n",
      "10 [2666, 800, 3999, 1600]\n",
      "11 [3999, 800, 5332, 1600]\n",
      "12 [5332, 800, 6665, 1600]\n",
      "13 [6665, 800, 7998, 1600]\n",
      "14 [7998, 800, 9331, 1600]\n",
      "15 [9331, 800, 10664, 1600]\n",
      "16 [0, 1600, 1333, 2400]\n",
      "17 [1333, 1600, 2666, 2400]\n",
      "18 [2666, 1600, 3999, 2400]\n",
      "19 [3999, 1600, 5332, 2400]\n",
      "20 [5332, 1600, 6665, 2400]\n",
      "21 [6665, 1600, 7998, 2400]\n",
      "22 [7998, 1600, 9331, 2400]\n",
      "23 [9331, 1600, 10664, 2400]\n",
      "24 [0, 2400, 1333, 3200]\n",
      "25 [1333, 2400, 2666, 3200]\n",
      "26 [2666, 2400, 3999, 3200]\n",
      "27 [3999, 2400, 5332, 3200]\n",
      "28 [5332, 2400, 6665, 3200]\n",
      "29 [6665, 2400, 7998, 3200]\n",
      "30 [7998, 2400, 9331, 3200]\n",
      "31 [9331, 2400, 10664, 3200]\n",
      "32 [0, 3200, 1333, 4000]\n",
      "33 [1333, 3200, 2666, 4000]\n",
      "34 [2666, 3200, 3999, 4000]\n",
      "35 [3999, 3200, 5332, 4000]\n",
      "36 [5332, 3200, 6665, 4000]\n",
      "37 [6665, 3200, 7998, 4000]\n",
      "38 [7998, 3200, 9331, 4000]\n",
      "39 [9331, 3200, 10664, 4000]\n"
     ]
    }
   ],
   "source": [
    "# get the coordinates of tiles\n",
    "    # knowing the coordinates is sufficient for tilling\n",
    "for ind,tile in enumerate(tiles):\n",
    "    print(ind,tile)\n",
    "    "
   ]
  },
  {
   "cell_type": "code",
   "execution_count": 37,
   "id": "2a23795e",
   "metadata": {
    "scrolled": true
   },
   "outputs": [
    {
     "name": "stdout",
     "output_type": "stream",
     "text": [
      "CNN2_Keyence_Nbenth_myc_8.jpg\n"
     ]
    }
   ],
   "source": [
    "# read in the coordinates of annotations\n",
    "def print_full(x):\n",
    "    pd.set_option('display.max_rows', len(x))\n",
    "    print(x)\n",
    "    pd.reset_option('display.max_rows')\n",
    "    \n",
    "annotab = pd.read_csv(\"/Users/lovely_shufan/Documents/REU_2023_Arline/raw_data/CSVannotations/TrainingSet003_Arline_annotation_via_project_20July23_12.28pm_csv.csv\", delimiter = \",\")\n",
    "files = annotab['filename'].unique()\n",
    "#print_full(annotab.iloc[:, [5]])\n",
    "#print_full(annotab['filename'])\n",
    "\n",
    "# drop template images\n",
    "exclude_file = ['Snap-12327-Image Export-127.jpg', 'Snap-12291-Image Export-91.jpg','Snap-12220-Image Export-20.jpg']\n",
    "annotab = annotab[~annotab['filename'].isin(exclude_file)]\n",
    "#print(image_names)\n",
    "#print(annotab['filename'].unique())\n",
    "\n",
    "# drop empty and non arb annotations\n",
    "#print(annotab['region_attributes'].unique())\n",
    "exclude_anno = ['{\"object\":\"AMF internal hypha\"}', '{}']\n",
    "annotab = annotab[~annotab['region_attributes'].isin(exclude_anno)]\n",
    "\n",
    "# drop shapes with less than three points\n",
    "exclude_line_shapes = []\n",
    "for i in range(0,annotab.shape[0],1):\n",
    "    anno = json.loads(annotab.iloc[i,][\"region_shape_attributes\"])\n",
    "    if len(anno['all_points_x']) < 3:\n",
    "        exclude_line_shapes.append(i)\n",
    "#print(exclude_line_shapes) # there is no shape with less than three points\n",
    "\n",
    "files = annotab['filename'].unique()\n",
    "file = 'CNN2_Keyence_Nbenth_myc_8.jpg'\n",
    "#print(file)"
   ]
  },
  {
   "cell_type": "code",
   "execution_count": 28,
   "id": "240e263c",
   "metadata": {
    "scrolled": true
   },
   "outputs": [
    {
     "name": "stdout",
     "output_type": "stream",
     "text": [
      "{'name': 'polygon', 'all_points_x': [3214, 3209, 3206, 3203, 3209, 3217, 3224, 3228, 3233, 3239, 3244, 3248, 3249, 3251, 3251, 3236, 3235, 3224, 3218], 'all_points_y': [246, 249, 249, 251, 257, 264, 270, 271, 273, 275, 276, 274, 270, 264, 258, 247, 245, 244, 241]}\n"
     ]
    }
   ],
   "source": [
    "# parse annotation label\n",
    "classes = ['AMF arbuscule island', 'AMF arbsucule forest']\n",
    "subtab = annotab[annotab['filename'] == 'CNN2_Keyence_Nbenth_myc_8.jpg']\n",
    "#print(subtab.shape[0]) # df.shape is getting the dimension of the dataframe, [0] is the #row\n",
    "loadcldict = json.loads(subtab.iloc[1,:]['region_attributes'])\n",
    "category_id = classes.index(loadcldict['object'])\n",
    "#print(loadcldict)\n",
    "\n",
    "# parse annotation shape coordinates\n",
    "anno = json.loads(subtab.iloc[0,][\"region_shape_attributes\"])\n",
    "print(anno)\n",
    "#len(anno['all_points_x']) == len(anno['all_points_y'])"
   ]
  },
  {
   "cell_type": "code",
   "execution_count": 67,
   "id": "d4dadcd1",
   "metadata": {},
   "outputs": [
    {
     "name": "stdout",
     "output_type": "stream",
     "text": [
      "[[1787, 1070], [1777, 1060], [1774, 1055], [1769, 1055], [1764, 1056], [1762, 1059], [1768, 1068], [1774, 1074], [1778, 1076], [1783, 1077]]\n"
     ]
    }
   ],
   "source": [
    "# FUNCTION convertPoints(anno)\n",
    "    #'''\n",
    "    #:param anno: dictionary format of region_shape_attributes\n",
    "    #:i.e.: {'name': 'polygon', 'all_points_x': [3242, 3235, 3234, 3233, 3232, 3233, 3240, 3241, 3243, 3244, 3245, 3249, 3249, 3251, 3256, 3260, 3263, 3268, 3268, 3267, 3265, 3264], 'all_points_y': [295, 295, 303, 306, 312, 318, 323, 323, 324, 327, 328, 329, 335, 339, 341, 342, 342, 340, 335, 332, 326, 325]}\n",
    "    #:return points: list of points in pairs\n",
    "    #'''\n",
    "points = []\n",
    "                    \n",
    "for i in range(0,len(anno[\"all_points_x\"]),1):\n",
    "    points.append([anno[\"all_points_x\"][i],anno[\"all_points_y\"][i]])\n",
    "    \n",
    "print(points)\n"
   ]
  },
  {
   "cell_type": "code",
   "execution_count": 69,
   "id": "8cff6eed",
   "metadata": {},
   "outputs": [
    {
     "name": "stdout",
     "output_type": "stream",
     "text": [
      "40\n",
      "<class 'int'>\n",
      "<class 'list'>\n"
     ]
    }
   ],
   "source": [
    "print(len(tiles))\n",
    "tile = tiles[0]\n",
    "print(type(tile[0]))\n",
    "print(type(points))"
   ]
  },
  {
   "cell_type": "code",
   "execution_count": 66,
   "id": "a81f2452",
   "metadata": {
    "scrolled": true
   },
   "outputs": [
    {
     "name": "stdout",
     "output_type": "stream",
     "text": [
      "[0, 0, 1333, 800]\n",
      "[1333, 0, 2666, 800]\n",
      "[2666, 0, 3999, 800]\n",
      "[3214, 246]\n",
      "[548, 246]\n",
      "[3209, 249]\n",
      "[543, 249]\n",
      "[3206, 249]\n",
      "[540, 249]\n",
      "[3203, 251]\n",
      "[537, 251]\n",
      "[3209, 257]\n",
      "[543, 257]\n",
      "[3217, 264]\n",
      "[551, 264]\n",
      "[3224, 270]\n",
      "[558, 270]\n",
      "[3228, 271]\n",
      "[562, 271]\n",
      "[3233, 273]\n",
      "[567, 273]\n",
      "[3239, 275]\n",
      "[573, 275]\n",
      "[3244, 276]\n",
      "[578, 276]\n",
      "[3248, 274]\n",
      "[582, 274]\n",
      "[3249, 270]\n",
      "[583, 270]\n",
      "[3251, 264]\n",
      "[585, 264]\n",
      "[3251, 258]\n",
      "[585, 258]\n",
      "[3236, 247]\n",
      "[570, 247]\n",
      "[3235, 245]\n",
      "[569, 245]\n",
      "[3224, 244]\n",
      "[558, 244]\n",
      "[3218, 241]\n",
      "[552, 241]\n",
      "[3999, 0, 5332, 800]\n",
      "[5332, 0, 6665, 800]\n",
      "[6665, 0, 7998, 800]\n",
      "[7998, 0, 9331, 800]\n",
      "[9331, 0, 10664, 800]\n",
      "[0, 800, 1333, 1600]\n",
      "[1333, 800, 2666, 1600]\n",
      "[2666, 800, 3999, 1600]\n",
      "[3999, 800, 5332, 1600]\n",
      "[5332, 800, 6665, 1600]\n",
      "[6665, 800, 7998, 1600]\n",
      "[7998, 800, 9331, 1600]\n",
      "[9331, 800, 10664, 1600]\n",
      "[0, 1600, 1333, 2400]\n",
      "[1333, 1600, 2666, 2400]\n",
      "[2666, 1600, 3999, 2400]\n",
      "[3999, 1600, 5332, 2400]\n",
      "[5332, 1600, 6665, 2400]\n",
      "[6665, 1600, 7998, 2400]\n",
      "[7998, 1600, 9331, 2400]\n",
      "[9331, 1600, 10664, 2400]\n",
      "[0, 2400, 1333, 3200]\n",
      "[1333, 2400, 2666, 3200]\n",
      "[2666, 2400, 3999, 3200]\n",
      "[3999, 2400, 5332, 3200]\n",
      "[5332, 2400, 6665, 3200]\n",
      "[6665, 2400, 7998, 3200]\n",
      "[7998, 2400, 9331, 3200]\n",
      "[9331, 2400, 10664, 3200]\n",
      "[0, 3200, 1333, 4000]\n",
      "[1333, 3200, 2666, 4000]\n",
      "[2666, 3200, 3999, 4000]\n",
      "[3999, 3200, 5332, 4000]\n",
      "[5332, 3200, 6665, 4000]\n",
      "[6665, 3200, 7998, 4000]\n",
      "[7998, 3200, 9331, 4000]\n",
      "[9331, 3200, 10664, 4000]\n"
     ]
    }
   ],
   "source": [
    "# FUNCTION intersectBoundingBox(points, xmin, xmax, ymin, ymax)\n",
    "    #'''\n",
    "    #:param points: list of point pairs\n",
    "    #:i.e.: [[3242, 295], [3235, 295], [3234, 303]...]\n",
    "    #:return converted_points: list of point pairs of which point coordinates are converted from image to tile\n",
    "    #'''\n",
    "for tile in tiles:\n",
    "    print(tile)\n",
    "    xmin = tile[0]\n",
    "    xmax = tile[2]\n",
    "    ymin = tile[1]\n",
    "    ymax = tile[3]\n",
    "    converted_points = []\n",
    "    for ind, p in enumerate(points):\n",
    "        p2 = list(p)\n",
    "        if p[0]>=xmin and p[0]<=xmax and p[1]>=ymin and p[1]<=ymax:\n",
    "            p2[0]=p[0]-xmin\n",
    "            p2[1]=p[1]-ymin\n",
    "            converted_points.append(p2)\n",
    "            print(p)\n",
    "            print(p2)\n",
    "            \n",
    "        #print(converted_points)"
   ]
  },
  {
   "cell_type": "code",
   "execution_count": 35,
   "id": "8ee9bf88",
   "metadata": {},
   "outputs": [
    {
     "name": "stdout",
     "output_type": "stream",
     "text": [
      "<class 'numpy.ndarray'>\n",
      "[[0, 0, 1333, 800], [1333, 0, 2666, 800], [2666, 0, 3999, 800], [3999, 0, 5332, 800], [5332, 0, 6665, 800], [6665, 0, 7998, 800], [7998, 0, 9331, 800], [9331, 0, 10664, 800], [0, 800, 1333, 1600], [1333, 800, 2666, 1600], [2666, 800, 3999, 1600], [3999, 800, 5332, 1600], [5332, 800, 6665, 1600], [6665, 800, 7998, 1600], [7998, 800, 9331, 1600], [9331, 800, 10664, 1600], [0, 1600, 1333, 2400], [1333, 1600, 2666, 2400], [2666, 1600, 3999, 2400], [3999, 1600, 5332, 2400], [5332, 1600, 6665, 2400], [6665, 1600, 7998, 2400], [7998, 1600, 9331, 2400], [9331, 1600, 10664, 2400], [0, 2400, 1333, 3200], [1333, 2400, 2666, 3200], [2666, 2400, 3999, 3200], [3999, 2400, 5332, 3200], [5332, 2400, 6665, 3200], [6665, 2400, 7998, 3200], [7998, 2400, 9331, 3200], [9331, 2400, 10664, 3200], [0, 3200, 1333, 4000], [1333, 3200, 2666, 4000], [2666, 3200, 3999, 4000], [3999, 3200, 5332, 4000], [5332, 3200, 6665, 4000], [6665, 3200, 7998, 4000], [7998, 3200, 9331, 4000], [9331, 3200, 10664, 4000]]\n",
      "['CNN2_Keyence_Nbenth_myc_8.jpg' 'CNN2_Keyence_Nbenth_myc_19.jpg'\n",
      " 'CNN2_Keyence_Nbenth_myc_18.jpg' 'CNN2_Keyence_Nbenth_myc_9.jpg'\n",
      " 'CNN2_Keyence_Nbenth_myc_33.jpg' 'CNN2_Keyence_Nbenth_myc_31.jpg'\n",
      " 'CNN2_Keyence_Nbenth_myc_29.jpg' 'CNN2_Keyence_Nbenth_myc_22.jpg'\n",
      " 'CNN2_Keyence_Nbenth_myc_21.jpg' 'CNN2_Keyence_Nbenth_myc_20.jpg']\n"
     ]
    }
   ],
   "source": [
    "p1 = Polygon([(0,0), (1,1), (1,0)])\n",
    "p2 = Polygon([(0,1), (1,0), (1,1)])\n",
    "p1.intersects(p2)\n",
    "print(type(img))\n",
    "print(tiles)\n",
    "print(files)"
   ]
  },
  {
   "cell_type": "code",
   "execution_count": 42,
   "id": "faec4e61",
   "metadata": {},
   "outputs": [
    {
     "name": "stdout",
     "output_type": "stream",
     "text": [
      "CNN2_Keyence_Nbenth_myc_8_0_0_1333_800\n"
     ]
    }
   ],
   "source": [
    "print(file[:-4]+'_'+str(tile[0])+'_'+str(tile[1])+'_'+str(tile[2])+'_'+str(tile[3]))"
   ]
  },
  {
   "cell_type": "code",
   "execution_count": 43,
   "id": "d4d45a32",
   "metadata": {},
   "outputs": [
    {
     "name": "stdout",
     "output_type": "stream",
     "text": [
      "{'filename': 'CNN2_Keyence_Nbenth_myc_8_9331_3200_10664_4000.jpg', 'height': 800, 'width': 1333}\n"
     ]
    }
   ],
   "source": [
    "tile_id = file[:-4] + '_'+ str(xmin)+\"_\"+str(ymin)+\"_\"+str(xmax)+\"_\"+str(ymax)\n",
    "record ={}\n",
    "record[\"filename\"] = tile_id + \".jpg\"\n",
    "record[\"height\"] = 800\n",
    "record[\"width\"] = 1333\n",
    "print(record)"
   ]
  },
  {
   "cell_type": "code",
   "execution_count": 52,
   "id": "0c7c352a",
   "metadata": {
    "scrolled": true
   },
   "outputs": [
    {
     "name": "stdout",
     "output_type": "stream",
     "text": [
      "filename\n",
      "file_size\n",
      "file_attributes\n",
      "region_count\n",
      "region_id\n",
      "region_shape_attributes\n",
      "region_attributes\n",
      "                            filename  region_id\n",
      "17     CNN2_Keyence_Nbenth_myc_8.jpg          0\n",
      "18     CNN2_Keyence_Nbenth_myc_8.jpg          1\n",
      "19     CNN2_Keyence_Nbenth_myc_8.jpg          2\n",
      "20     CNN2_Keyence_Nbenth_myc_8.jpg          3\n",
      "21     CNN2_Keyence_Nbenth_myc_8.jpg          4\n",
      "...                              ...        ...\n",
      "7943  CNN2_Keyence_Nbenth_myc_20.jpg        440\n",
      "7944  CNN2_Keyence_Nbenth_myc_20.jpg        441\n",
      "7945  CNN2_Keyence_Nbenth_myc_20.jpg        442\n",
      "7946  CNN2_Keyence_Nbenth_myc_20.jpg        443\n",
      "7947  CNN2_Keyence_Nbenth_myc_20.jpg        444\n",
      "\n",
      "[7924 rows x 2 columns]\n",
      "44c9b2ce-26ef-4681-9706-94cbb7a1bd77\n"
     ]
    }
   ],
   "source": [
    "for col in annotab.columns:\n",
    "    print(col)\n",
    "print(annotab[['filename','region_id']])\n",
    "\n",
    "print(uuid.uuid4())"
   ]
  },
  {
   "cell_type": "code",
   "execution_count": 56,
   "id": "e9f203d1",
   "metadata": {},
   "outputs": [
    {
     "name": "stdout",
     "output_type": "stream",
     "text": [
      "filename                                       CNN2_Keyence_Nbenth_myc_8.jpg\n",
      "file_size                                                           16866163\n",
      "file_attributes                                                           {}\n",
      "region_count                                                             723\n",
      "region_id                                                                  0\n",
      "region_shape_attributes    {\"name\":\"polygon\",\"all_points_x\":[3214,3209,32...\n",
      "region_attributes                          {\"object\":\"AMF arbuscule island\"}\n",
      "Name: 17, dtype: object\n",
      "{'object': 'AMF arbuscule island'}\n",
      "AMF arbuscule island\n",
      "0\n"
     ]
    }
   ],
   "source": [
    "tab_rec = subtab.iloc[0]\n",
    "loadcldict = json.loads(tab_rec['region_attributes'])\n",
    "print(tab_rec)\n",
    "print(loadcldict)\n",
    "print(loadcldict['object'])\n",
    "category_id=classes.index(loadcldict['object'])\n",
    "print(category_id)"
   ]
  },
  {
   "cell_type": "code",
   "execution_count": null,
   "id": "f03e16a7",
   "metadata": {},
   "outputs": [],
   "source": [
    "# to check whether all the annotations are valid after make valid\n",
    "validlist = []\n",
    "for i in range(0,annotab.shape[0],1):\n",
    "    anno = json.loads(annotab.iloc[i][\"region_shape_attributes\"])\n",
    "    #print(anno)\n",
    "    points = convertPoints(anno)\n",
    "    #print(points)\n",
    "    polygon_anno = Polygon(points)\n",
    "    polygon_anno = make_valid(polygon_anno)\n",
    "    validlist.append(polygon_anno.is_valid)\n",
    "print(sum(validlist))\n",
    "print(annotab.shape[0])"
   ]
  },
  {
   "cell_type": "code",
   "execution_count": null,
   "id": "4cc7a8b2",
   "metadata": {},
   "outputs": [],
   "source": [
    "# test FUNCTION intersectmask\n",
    "subtab = annotab[annotab['filename'] == 'CNN2_Keyence_Nbenth_myc_9.jpg']\n",
    "img=readImage(img_dir,'CNN2_Keyence_Nbenth_myc_9.jpg')\n",
    "tiles=tileImage(img)\n",
    "\n",
    "for ind,tile in enumerate(tiles):\n",
    "    print(tile)\n",
    "   \n",
    "    # get the coordinate over the tile image\n",
    "    xmin=tile[0]\n",
    "    ymin=tile[1]\n",
    "    xmax=tile[2]\n",
    "    ymax=tile[3]\n",
    "    tilebox = Polygon([(xmin,ymin),(xmax,ymin),(xmax,ymax),(xmin,ymax)])\n",
    "    \n",
    "    #create a record for each intersection\n",
    "    ## the tile record\n",
    "    record = {}    # empty dictionary\n",
    "    record[\"filename\"] = 'CNN2_Keyence_Nbenth_myc_9' + '_'+ str(xmin)+\"_\"+str(ymin)+\"_\"+str(xmax)+\"_\"+str(ymax) + '.jpg'\n",
    "    record[\"height\"] = 800\n",
    "    record[\"width\"] = 1333\n",
    "    for i in range(0,subtab.shape[0],1):\n",
    "        anno = json.loads(subtab.iloc[i][\"region_shape_attributes\"])\n",
    "        points = convertPoints(anno)\n",
    "        polygon_points = Polygon(points)\n",
    "        polygon_points = make_valid(polygon_points)\n",
    "        \n",
    "        # create intersection between tile box and annotation\n",
    "        intersect_anno = polygon_points.intersection(tilebox)\n",
    "        intersect_points = []\n",
    "        if not intersect_anno.is_empty: #empty intersections are dropped\n",
    "            #print(i)\n",
    "            is_polygon = intersect_anno.geom_type=='Polygon'\n",
    "            is_multipolygon = intersect_anno.geom_type=='MultiPolygon'\n",
    "            is_mutliothers = intersect_anno.geom_type=='GeometryCollection'\n",
    "            \n",
    "            \n",
    "            if is_polygon or is_multipolygon or is_mutliothers: # points and lines are dropped\n",
    "                \n",
    "                if is_polygon:\n",
    "                    #print('Polygon')\n",
    "                    # convert new annotations from polygons to points\n",
    "                    exterior = list(intersect_anno.exterior.coords)[:-1] #remove the last point which is the same as the first point\n",
    "                    interior = list(intersect_anno.interiors)\n",
    "                \n",
    "                    if interior != []:\n",
    "                        # merge interior point/linearring with exterior points\n",
    "                        interior = GeometryCollection(interior)\n",
    "                        for geom in interior.geoms: \n",
    "                            for i in mapping(geom)['coordinates'][:-1]:\n",
    "                                exterior.append(i)\n",
    "                        new_anno = list(exterior)\n",
    "                        intersect_points = list(new_anno)\n",
    "                        print(intersect_points)\n",
    "                    else: # if intersected annotation is polygon without holes\n",
    "                        intersect_points = list(exterior)\n",
    "                else:\n",
    "                    if is_multipolygon: #remove the small polygons and keep the largest\n",
    "                        #print('MultiPolygon')\n",
    "                        # keep the largest polygon\n",
    "                        poly_area = []\n",
    "                        for geom in intersect_anno.geoms:\n",
    "                            poly_area.append(geom.area)\n",
    "                        new_anno = intersect_anno.geoms[poly_area.index(max(poly_area))]\n",
    "                        new_anno = list(new_anno.exterior.coords)[:-1]\n",
    "                        intersect_points = list(new_anno)\n",
    "                        print(intersect_points)\n",
    "                        \n",
    "                    else: #is geometrycollection\n",
    "                        #print('GeometryCollection')\n",
    "                        # remove linestring\n",
    "                        for geom in points2.geoms:\n",
    "                            if geom.geom_type == 'Point' or geom.geom_type == 'LineString':\n",
    "                                continue\n",
    "                            else:\n",
    "                                new_anno = geom\n",
    "                        \n",
    "                        # new_anno should be a polygon with or without holes\n",
    "                        exterior = list(new_anno.exterior.coords)[:-1] #remove the last point which is the same as the first point\n",
    "                        interior = list(new_anno.interiors)\n",
    "                        if interior != []:                        \n",
    "                            # merge interior point/linearring with exterior points\n",
    "                            interior = GeometryCollection(interior)\n",
    "\n",
    "                            for geom in interior.geoms:\n",
    "                                for i in mapping(geom)['coordinates'][:-1]: #remove duplicated points\n",
    "                                    exterior.append(i)\n",
    "                            new_anno = list(exterior)\n",
    "                            intersect_points = list(new_anno)\n",
    "                            print(intersect_points)\n",
    "                        else:\n",
    "                            new_anno = list(new_anno.exterior.coords)[:-1]\n",
    "                            intersect_points = list(new_anno)\n",
    "                            print(intersect_points)\n",
    "                        transformed_intersect_points = transformPoints(intersect_points)\n",
    "        #print(intersect_points)    \n",
    "            #for ind, point in enumerate(new_anno):\n",
    "                #print(ind, point)\n",
    "                    #p2=list(p)\n",
    "                    #p2[0]=p2[0]-xmin\n",
    "                    #p2[1]=p2[1]-ymin\n",
    "                    #converted_points.append(p2)\n",
    "            \n",
    "\n",
    "        \n",
    "        "
   ]
  },
  {
   "cell_type": "code",
   "execution_count": null,
   "id": "c7d63428",
   "metadata": {},
   "outputs": [],
   "source": [
    "# FUNCTION IntersectSegmentations\\\n",
    "\n",
    "#def IntersectSegmentations(img_dir,output_dir,tiles, img, annotab, file,classes):\n",
    "#    '''\n",
    "#   :param tiles:\n",
    "#    :paramtype list: list of tile corner coordinates\n",
    "#    :param img:\n",
    "#    :paramtype numpy array: padded image\n",
    "#    :param annotab:\n",
    "#    :paramtype pandas dataframe:\n",
    "#    :param files:\n",
    "#    :paramtype list: list of image names\n",
    "#    :param classes:\n",
    "#    :paramtype list:\n",
    "#    :return dataset_dicts:\n",
    "#    :rtype list:\n",
    "#    Objective: iterate over each of the annotations in the image and intersect them with the tile bounding boxes\n",
    "#    '''\n",
    "    #filename=os.path.join(img_dir,file)\n",
    "    #records=[]\n",
    "    #nonvalid_seg_counter=0\n",
    "    \n",
    "    # iterate over the tile coordinates\n",
    "    for ind,tile in enumerate(tiles):\n",
    "        record = {} # an empty dictionary\n",
    "        # get the coordinate over the tile image\n",
    "        xmin = tile[0]\n",
    "        ymin = tile[1]\n",
    "        xmax = tile[2]\n",
    "        ymax = tile[3]\n",
    "        \n",
    "        # make a tile id using the xmin,ymin,xmax,ymax and the filename\n",
    "        tile_id = file[:-4] + '_'+ str(xmin)+\"_\"+str(ymin)+\"_\"+str(xmax)+\"_\"+str(ymax)\n",
    "        \n",
    "        # begin building the record by adding the information for the COCO dataset\n",
    "        record[\"filename\"] = tile_id + '.jpg'\n",
    "        record[\"height\"] = 800\n",
    "        record[\"width\"] = 1333\n",
    "        \n",
    "        # make an empty list of objects for record annotation\n",
    "        record[\"annotations\"] = []\n",
    "        subtab = annotab[annotab['filename'] == file]\n",
    "        \n",
    "        objs =[]\n",
    "        for anno_i in range(subtab.shape[0]): #iterate over each annotation\n",
    "            # make a UID for each polygon\n",
    "            uid = str(uuid.uuid4())\n",
    "            \n",
    "            # get the catagory id\n",
    "            tab_rec=subtab.iloc[anno_i]\n",
    "            loadcldict=json.loads(tab_rec['region_attributes'])\n",
    "            category_id=classes.index(loadcldict['object'])\n",
    "            \n",
    "            # convert the category id to the class name by using the classes array\n",
    "            #className=classes[category_id]\n",
    "            \n",
    "            anno=json.loads(tab_rec[\"region_shape_attributes\"])\n",
    "            #if len(anno)==0:\n",
    "            #    continue\n",
    "            \n",
    "            #print(anno)\n",
    "            points=convertPoints(anno)\n",
    "            # quick check 1 (this was for speed purpose but the crossing patterns are more complex and might have no point within)\n",
    "            # converted_points_in=intersectBoundingBox(points,xmin,ymin,xmax,ymax)\n",
    "            converted_points_in=[1]\n",
    "            if len(converted_points_in) >= 1:\n",
    "                converted_points_list=intersectmask(points,xmin,ymin,xmax,ymax)\n",
    "                \n",
    "                for indp,converted_points in enumerate(converted_points_list):\n",
    "                    if len(converted_points)>0:\n",
    "                        Sxmin=min(converted_points,key=lambda x:x[0])[0]\n",
    "                        Symin=min(converted_points,key=lambda x:x[1])[1]\n",
    "                        Sxmax=max(converted_points,key=lambda x:x[0])[0]\n",
    "                        Symax=max(converted_points,key=lambda x:x[1])[1]\n",
    "                        converted_points=[item for sublist in converted_points for item in sublist]\n",
    "                        Segbbox = [Sxmin,Symin,Sxmax,Symax]\n",
    "                        obj = {\n",
    "                            'filename': tile_id + '.jpg',\n",
    "                            \"image_id\": tile_id,\n",
    "                            'structure_id': uid,\n",
    "                            'height': 512,\n",
    "                            'width': 512,\n",
    "                            \"category_id\": className,\n",
    "                            \"bbox\": Segbbox,\n",
    "                            \"segmentation\": converted_points,\n",
    "                            \"bbox_mode\": 'BoxMode.XYXY_ABS',\n",
    "                            \"iscrowd\":0,\n",
    "                            }\n",
    "                        #objs.append(obj)\n",
    "                        record[\"annotations\"].append(obj)\n",
    "                    else:\n",
    "                        print('2:'+str(ind)+'_'+str(anno_i)+'_'+className)\n",
    "                        nonvalid_seg_counter=nonvalid_seg_counter+1\n",
    "        if len(record['annotations']) > 0:\n",
    "            #subset the image to the tile coordinates\n",
    "            subimg=img[ymin:ymax,xmin:xmax]\n",
    "            # write the tile image to the output directory\n",
    "            cv2.imwrite(os.path.join(output_dir,tile_id+'.jpg'),subimg)\n",
    "            records.append(record)\n",
    "    print('nonvalid segmentation: '+str(nonvalid_seg_counter))\n",
    "    return records"
   ]
  }
 ],
 "metadata": {
  "kernelspec": {
   "display_name": "Python [conda env:shapely]",
   "language": "python",
   "name": "conda-env-shapely-py"
  },
  "language_info": {
   "codemirror_mode": {
    "name": "ipython",
    "version": 3
   },
   "file_extension": ".py",
   "mimetype": "text/x-python",
   "name": "python",
   "nbconvert_exporter": "python",
   "pygments_lexer": "ipython3",
   "version": "3.11.4"
  }
 },
 "nbformat": 4,
 "nbformat_minor": 5
}
