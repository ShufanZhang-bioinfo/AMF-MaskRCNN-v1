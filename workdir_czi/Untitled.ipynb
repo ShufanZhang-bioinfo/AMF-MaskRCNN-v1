{
 "cells": [
  {
   "cell_type": "code",
   "execution_count": 1,
   "id": "b4bf2b1a",
   "metadata": {},
   "outputs": [],
   "source": [
    "import sys\n",
    "import os\n",
    "import numpy as np\n",
    "import pandas as pd\n",
    "import matplotlib.pyplot as plt\n",
    "import imgfileutils as imf\n",
    "#import segmentation_tools as sgt\n",
    "from aicsimageio import AICSImage, imread\n",
    "from skimage import measure, segmentation\n",
    "from skimage.measure import regionprops\n",
    "from skimage.color import label2rgb\n",
    "import progressbar\n",
    "from IPython.display import display, HTML\n",
    "from MightyMosaic import MightyMosaic\n",
    "\n",
    "import argparse\n",
    "import glob\n",
    "import bioformats\n",
    "import javabridge\n",
    "from PIL import Image"
   ]
  },
  {
   "cell_type": "code",
   "execution_count": 2,
   "id": "5de9ac67",
   "metadata": {},
   "outputs": [],
   "source": [
    "# specify the filename of the CZI file\n",
    "filename = r'E24W-1_C5_09.czi'\n"
   ]
  },
  {
   "cell_type": "code",
   "execution_count": 15,
   "id": "801d9996",
   "metadata": {},
   "outputs": [
    {
     "name": "stdout",
     "output_type": "stream",
     "text": [
      "ScanRegion0\n",
      "<Dimensions [T: 1, C: 1, Z: 1, Y: 6864, X: 20545, S: 3]>\n",
      "ScanRegion1\n",
      "<Dimensions [T: 1, C: 1, Z: 1, Y: 6914, X: 16837, S: 3]>\n",
      "ScanRegion2\n",
      "<Dimensions [T: 1, C: 1, Z: 1, Y: 6914, X: 18719, S: 3]>\n",
      "ScanRegion3\n",
      "<Dimensions [T: 1, C: 1, Z: 1, Y: 6921, X: 24253, S: 3]>\n",
      "ScanRegion4\n",
      "<Dimensions [T: 1, C: 1, Z: 1, Y: 6921, X: 20551, S: 3]>\n",
      "ScanRegion5\n",
      "<Dimensions [T: 1, C: 1, Z: 1, Y: 6921, X: 18694, S: 3]>\n",
      "ScanRegion6\n",
      "<Dimensions [T: 1, C: 1, Z: 1, Y: 4734, X: 18638, S: 3]>\n",
      "ScanRegion7\n",
      "<Dimensions [T: 1, C: 1, Z: 1, Y: 11411, X: 16860, S: 3]>\n",
      "ScanRegion8\n",
      "<Dimensions [T: 1, C: 1, Z: 1, Y: 6918, X: 26109, S: 3]>\n",
      "ScanRegion9\n",
      "<Dimensions [T: 1, C: 1, Z: 1, Y: 6916, X: 16859, S: 3]>\n",
      "ScanRegion10\n",
      "<Dimensions [T: 1, C: 1, Z: 1, Y: 9137, X: 26105, S: 3]>\n",
      "ScanRegion11\n",
      "<Dimensions [T: 1, C: 1, Z: 1, Y: 11400, X: 44601, S: 3]>\n",
      "ScanRegion12\n",
      "<Dimensions [T: 1, C: 1, Z: 1, Y: 9128, X: 18699, S: 3]>\n",
      "ScanRegion13\n",
      "<Dimensions [T: 1, C: 1, Z: 1, Y: 4680, X: 3926, S: 3]>\n",
      "ScanRegion14\n",
      "<Dimensions [T: 1, C: 1, Z: 1, Y: 9147, X: 22399, S: 3]>\n",
      "ScanRegion15\n",
      "<Dimensions [T: 1, C: 1, Z: 1, Y: 9107, X: 18702, S: 3]>\n",
      "ScanRegion16\n",
      "<Dimensions [T: 1, C: 1, Z: 1, Y: 9135, X: 26076, S: 3]>\n",
      "ScanRegion17\n",
      "<Dimensions [T: 1, C: 1, Z: 1, Y: 9132, X: 16851, S: 3]>\n",
      "ScanRegion18\n",
      "<Dimensions [T: 1, C: 1, Z: 1, Y: 4700, X: 18703, S: 3]>\n",
      "ScanRegion19\n",
      "<Dimensions [T: 1, C: 1, Z: 1, Y: 9151, X: 24234, S: 3]>\n",
      "ScanRegion20\n",
      "<Dimensions [T: 1, C: 1, Z: 1, Y: 6935, X: 18709, S: 3]>\n",
      "ScanRegion21\n",
      "<Dimensions [T: 1, C: 1, Z: 1, Y: 6918, X: 20519, S: 3]>\n",
      "ScanRegion22\n",
      "<Dimensions [T: 1, C: 1, Z: 1, Y: 13570, X: 33446, S: 3]>\n",
      "ScanRegion23\n",
      "<Dimensions [T: 1, C: 1, Z: 1, Y: 9139, X: 29793, S: 3]>\n",
      "ScanRegion24\n",
      "<Dimensions [T: 1, C: 1, Z: 1, Y: 6903, X: 20560, S: 3]>\n",
      "ScanRegion25\n",
      "<Dimensions [T: 1, C: 1, Z: 1, Y: 6913, X: 16856, S: 3]>\n",
      "ScanRegion26\n",
      "<Dimensions [T: 1, C: 1, Z: 1, Y: 13542, X: 35367, S: 3]>\n",
      "ScanRegion27\n",
      "<Dimensions [T: 1, C: 1, Z: 1, Y: 9117, X: 27963, S: 3]>\n",
      "ScanRegion28\n",
      "<Dimensions [T: 1, C: 1, Z: 1, Y: 9142, X: 26099, S: 3]>\n",
      "ScanRegion29\n",
      "<Dimensions [T: 1, C: 1, Z: 1, Y: 4683, X: 16851, S: 3]>\n"
     ]
    }
   ],
   "source": [
    "czi_aics = AICSImage(filename)\n",
    "#czi_aics.data\n",
    "#czi_aics.dims\n",
    "#print(czi_aics.scenes)\n",
    "czi_aics.current_scene\n",
    "for i in czi_aics.scenes:\n",
    "    czi_aics.set_scene(i)\n",
    "    print(i)\n",
    "    print(czi_aics.dims)"
   ]
  },
  {
   "cell_type": "code",
   "execution_count": 3,
   "id": "ad355532",
   "metadata": {},
   "outputs": [
    {
     "ename": "AttributeError",
     "evalue": "'AICSImage' object has no attribute 'size_x'",
     "output_type": "error",
     "traceback": [
      "\u001b[0;31m---------------------------------------------------------------------------\u001b[0m",
      "\u001b[0;31mAttributeError\u001b[0m                            Traceback (most recent call last)",
      "Cell \u001b[0;32mIn[3], line 2\u001b[0m\n\u001b[1;32m      1\u001b[0m \u001b[38;5;66;03m# get the metadata from the czi file\u001b[39;00m\n\u001b[0;32m----> 2\u001b[0m md \u001b[38;5;241m=\u001b[39m \u001b[43mimf\u001b[49m\u001b[38;5;241;43m.\u001b[39;49m\u001b[43mget_metadata_czi\u001b[49m\u001b[43m(\u001b[49m\u001b[43mfilename\u001b[49m\u001b[43m,\u001b[49m\u001b[43m \u001b[49m\u001b[43mdim2none\u001b[49m\u001b[38;5;241;43m=\u001b[39;49m\u001b[38;5;28;43;01mFalse\u001b[39;49;00m\u001b[43m)\u001b[49m\n\u001b[1;32m      4\u001b[0m \u001b[38;5;66;03m# show some metainformation\u001b[39;00m\n\u001b[1;32m      5\u001b[0m \u001b[38;5;28mprint\u001b[39m(\u001b[38;5;124m'\u001b[39m\u001b[38;5;124m------------------   Show Metainformation ------------------\u001b[39m\u001b[38;5;124m'\u001b[39m)\n",
      "File \u001b[0;32m~/Dropbox (Edison_Lab@UGA)/UGA PhD/image analysis/czi/imgfileutils.py:302\u001b[0m, in \u001b[0;36mget_metadata_czi\u001b[0;34m(filename, dim2none)\u001b[0m\n\u001b[1;32m    300\u001b[0m metadata[\u001b[38;5;124m'\u001b[39m\u001b[38;5;124mAxes_aics\u001b[39m\u001b[38;5;124m'\u001b[39m] \u001b[38;5;241m=\u001b[39m czi_aics\u001b[38;5;241m.\u001b[39mdims\n\u001b[1;32m    301\u001b[0m metadata[\u001b[38;5;124m'\u001b[39m\u001b[38;5;124mShape_aics\u001b[39m\u001b[38;5;124m'\u001b[39m] \u001b[38;5;241m=\u001b[39m czi_aics\u001b[38;5;241m.\u001b[39mshape\n\u001b[0;32m--> 302\u001b[0m metadata[\u001b[38;5;124m'\u001b[39m\u001b[38;5;124mSizeX_aics\u001b[39m\u001b[38;5;124m'\u001b[39m] \u001b[38;5;241m=\u001b[39m \u001b[43mczi_aics\u001b[49m\u001b[38;5;241;43m.\u001b[39;49m\u001b[43msize_x\u001b[49m\n\u001b[1;32m    303\u001b[0m metadata[\u001b[38;5;124m'\u001b[39m\u001b[38;5;124mSizeY_aics\u001b[39m\u001b[38;5;124m'\u001b[39m] \u001b[38;5;241m=\u001b[39m czi_aics\u001b[38;5;241m.\u001b[39msize_y\n\u001b[1;32m    304\u001b[0m metadata[\u001b[38;5;124m'\u001b[39m\u001b[38;5;124mSizeC_aics\u001b[39m\u001b[38;5;124m'\u001b[39m] \u001b[38;5;241m=\u001b[39m czi_aics\u001b[38;5;241m.\u001b[39msize_c\n",
      "\u001b[0;31mAttributeError\u001b[0m: 'AICSImage' object has no attribute 'size_x'"
     ]
    }
   ],
   "source": [
    "# get the metadata from the czi file\n",
    "md = imf.get_metadata_czi(filename, dim2none=False)\n",
    "\n",
    "# show some metainformation\n",
    "print('------------------   Show Metainformation ------------------')\n",
    "\n",
    "# shape and dimension entry from CZI file as returned by czifile.py\n",
    "print('Array Shape (czifile)          : ', md['Shape'])\n",
    "print('Dimension Entry (czifile)      : ', md['Axes'])\n",
    "print('Array Shape (aicsimageio)      : ', md['Shape_aics'])\n",
    "print('Dimension Entry (aicsimageio)  : ', md['Axes_aics'])\n",
    "print('------------------------------------------------------------')\n",
    "print('SizeS : ', md['SizeS'])\n",
    "print('SizeT : ', md['SizeT'])\n",
    "print('SizeZ : ', md['SizeZ'])\n",
    "print('SizeC : ', md['SizeC'])\n",
    "print('SizeX (czifile) : ', md['SizeX'])\n",
    "print('SizeY (czifile) : ', md['SizeY'])\n",
    "print('SizeY (aicsimageio) : ', md['SizeX_aics'])\n",
    "print('SizeY (aicsimageio) : ', md['SizeY_aics'])\n",
    "print('XScale : ', md['XScale'])\n",
    "print('Yscale : ', md['YScale'])\n",
    "print('Zscale : ', md['ZScale'])"
   ]
  }
 ],
 "metadata": {
  "kernelspec": {
   "display_name": "Python [conda env:czi_py38]",
   "language": "python",
   "name": "conda-env-czi_py38-py"
  },
  "language_info": {
   "codemirror_mode": {
    "name": "ipython",
    "version": 3
   },
   "file_extension": ".py",
   "mimetype": "text/x-python",
   "name": "python",
   "nbconvert_exporter": "python",
   "pygments_lexer": "ipython3",
   "version": "3.8.17"
  }
 },
 "nbformat": 4,
 "nbformat_minor": 5
}
